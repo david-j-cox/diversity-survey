{
 "cells": [
  {
   "cell_type": "markdown",
   "metadata": {
    "colab_type": "text",
    "id": "view-in-github"
   },
   "source": [
    "<a href=\"https://colab.research.google.com/github/david-j-cox/twitter-higher-ed/blob/main/basic_analyses.ipynb\" target=\"_parent\"><img src=\"https://colab.research.google.com/assets/colab-badge.svg\" alt=\"Open In Colab\"/></a>"
   ]
  },
  {
   "cell_type": "markdown",
   "metadata": {
    "id": "tQqFbRvHJxzx"
   },
   "source": [
    "# Packages and modules"
   ]
  },
  {
   "cell_type": "markdown",
   "metadata": {},
   "source": [
    "Coding is sped up by using code and algorithms that others have already written so we don't have to reinvent the wheel. This next box imports some of the pre-existing we'll use. "
   ]
  },
  {
   "cell_type": "code",
   "execution_count": 43,
   "metadata": {
    "colab": {
     "base_uri": "https://localhost:8080/"
    },
    "id": "tAZ0a-DuTTYZ",
    "outputId": "1031e0c2-4755-4049-eed4-b73225223b1d"
   },
   "outputs": [
    {
     "name": "stderr",
     "output_type": "stream",
     "text": [
      "[nltk_data] Downloading package wordnet to\n",
      "[nltk_data]     /Users/davidjcox/nltk_data...\n",
      "[nltk_data]   Package wordnet is already up-to-date!\n",
      "[nltk_data] Downloading package stopwords to\n",
      "[nltk_data]     /Users/davidjcox/nltk_data...\n",
      "[nltk_data]   Unzipping corpora/stopwords.zip.\n"
     ]
    }
   ],
   "source": [
    "# Packages for path management\n",
    "import os\n",
    "\n",
    "# Packages for manipulating data\n",
    "import numpy as np\n",
    "from numpy import std, mean, sqrt\n",
    "import pandas as pd\n",
    "\n",
    "# Packages for visualizing data\n",
    "import seaborn as sns \n",
    "import matplotlib.pyplot as plt\n",
    "try:\n",
    "  import sweetviz as sv\n",
    "except:\n",
    "    !pip install sweetviz\n",
    "    import sweetviz as sv\n",
    "\n",
    "# Packages for statistics and modeling\n",
    "from scipy import stats\n",
    "try:\n",
    "  from vaderSentiment.vaderSentiment import SentimentIntensityAnalyzer\n",
    "except:\n",
    "  !pip install vaderSentiment\n",
    "import spacy\n",
    "from spacy.lang.en import English\n",
    "parser = English()\n",
    "import nltk\n",
    "nltk.download('wordnet')\n",
    "nltk.download('stopwords')\n",
    "en_stop = set(nltk.corpus.stopwords.words('english'))\n",
    "from nltk.stem.wordnet import WordNetLemmatizer\n",
    "from nltk.corpus import wordnet as wn\n",
    "import gensim\n",
    "from gensim import corpora\n",
    "from gensim.utils import simple_preprocess\n",
    "from gensim.models import CoherenceModel\n",
    "import spacy\n",
    "try:\n",
    "  import pyLDAvis\n",
    "except:\n",
    "  !pip install pyLDAvis\n",
    "  import pyLDAvis\n",
    "import pyLDAvis.gensim_models\n",
    "import pickle"
   ]
  },
  {
   "cell_type": "markdown",
   "metadata": {
    "id": "63g_OloDj7ub"
   },
   "source": [
    "# Read in raw data set"
   ]
  },
  {
   "cell_type": "code",
   "execution_count": 3,
   "metadata": {
    "colab": {
     "base_uri": "https://localhost:8080/"
    },
    "id": "nsWAMrAMUMZa",
    "outputId": "13a2ab9f-b0ef-4fac-909e-30ffc953f5ab"
   },
   "outputs": [],
   "source": [
    "# Set the working directory to the corresponding repository\n",
    "directory = '/Users/davidjcox/Dropbox (Personal)/Projects/Manuscripts In Progress/Empirical/Endicott Data/diversity-survey/'\n",
    "os.chdir(directory)\n",
    "\n",
    "# Read in data and make a copy so we don't accidentally damage the raw file\n",
    "raw_data = pd.read_csv('./data/01_raw/raw_data.csv')\n",
    "data = raw_data.copy()"
   ]
  },
  {
   "cell_type": "code",
   "execution_count": 9,
   "metadata": {},
   "outputs": [
    {
     "data": {
      "text/html": [
       "<div>\n",
       "<style scoped>\n",
       "    .dataframe tbody tr th:only-of-type {\n",
       "        vertical-align: middle;\n",
       "    }\n",
       "\n",
       "    .dataframe tbody tr th {\n",
       "        vertical-align: top;\n",
       "    }\n",
       "\n",
       "    .dataframe thead th {\n",
       "        text-align: right;\n",
       "    }\n",
       "</style>\n",
       "<table border=\"1\" class=\"dataframe\">\n",
       "  <thead>\n",
       "    <tr style=\"text-align: right;\">\n",
       "      <th></th>\n",
       "      <th>Time</th>\n",
       "      <th>Consent</th>\n",
       "      <th>Q1 of 20. What is your age?</th>\n",
       "      <th>Q2 of 20. With which gender do you identify?</th>\n",
       "      <th>Q3 of 20. What pronouns do you prefer?</th>\n",
       "      <th>Q4 of 20. With which ethnicity/race do you identify? Please list all that apply.</th>\n",
       "      <th>Q5 of 20. With which religion do you identify? Please list all that apply, including if you do not identify with a religion.</th>\n",
       "      <th>Q6 of 20. With which political affiliation do you identify?</th>\n",
       "      <th>Q7 of 20. What is the highest level of education you have completed? (If currently enrolled, please select highest degree received):</th>\n",
       "      <th>Please specify other terminal degree</th>\n",
       "      <th>...</th>\n",
       "      <th>Q18 of 20. Please rate your familiarity with the following terms: (Judaism)</th>\n",
       "      <th>Q18 of 20. Please rate your familiarity with the following terms: (No religion (Atheist))</th>\n",
       "      <th>Q18 of 20. Please rate your familiarity with the following terms: (Paganism)</th>\n",
       "      <th>Q18 of 20. Please rate your familiarity with the following terms: (Wiccan)</th>\n",
       "      <th>Q19 of 20. What actionable items do you recommend we take as a field to increase diversity?</th>\n",
       "      <th>Q20 of 20. Please include any comments or feedback on how the demographic section of this survey can be improved to meet its goal of inclusivity and diversity.</th>\n",
       "      <th>Browser</th>\n",
       "      <th>IP Address</th>\n",
       "      <th>Unique ID</th>\n",
       "      <th>Location</th>\n",
       "    </tr>\n",
       "  </thead>\n",
       "  <tbody>\n",
       "    <tr>\n",
       "      <th>0</th>\n",
       "      <td>10/21/20 12:30</td>\n",
       "      <td>Yes, I am at least 18 years of age, am a stude...</td>\n",
       "      <td>46-60</td>\n",
       "      <td>Male</td>\n",
       "      <td>He/him/his</td>\n",
       "      <td>Jewish</td>\n",
       "      <td>None</td>\n",
       "      <td>Libertarian</td>\n",
       "      <td>Doctoral degree</td>\n",
       "      <td>NaN</td>\n",
       "      <td>...</td>\n",
       "      <td>Very familiar</td>\n",
       "      <td>Very familiar</td>\n",
       "      <td>Very familiar</td>\n",
       "      <td>Very familiar</td>\n",
       "      <td>None, treat everyone as an individual and not ...</td>\n",
       "      <td>NaN</td>\n",
       "      <td>Chrome 86.0.4240.75 / Windows</td>\n",
       "      <td>100.12.9.146</td>\n",
       "      <td>682348249</td>\n",
       "      <td>40.620098114014, -73.751899719238</td>\n",
       "    </tr>\n",
       "    <tr>\n",
       "      <th>100</th>\n",
       "      <td>10/28/20 12:27</td>\n",
       "      <td>Yes, I am at least 18 years of age, am a stude...</td>\n",
       "      <td>31-45</td>\n",
       "      <td>male</td>\n",
       "      <td>He/him/his</td>\n",
       "      <td>White</td>\n",
       "      <td>None</td>\n",
       "      <td>Democratic Socialist/Democratic Party</td>\n",
       "      <td>Master's degree</td>\n",
       "      <td>NaN</td>\n",
       "      <td>...</td>\n",
       "      <td>Very familiar</td>\n",
       "      <td>Very familiar</td>\n",
       "      <td>Somewhat familiar</td>\n",
       "      <td>Somewhat familiar</td>\n",
       "      <td>Invest  in recruiting  marginalized population...</td>\n",
       "      <td>NaN</td>\n",
       "      <td>Safari 13.1.2 / OS X</td>\n",
       "      <td>74.85.93.162</td>\n",
       "      <td>688774433</td>\n",
       "      <td>47.614498138428, -122.34799957275</td>\n",
       "    </tr>\n",
       "    <tr>\n",
       "      <th>200</th>\n",
       "      <td>3/9/21 17:30</td>\n",
       "      <td>Yes, I am at least 18 years of age, am a stude...</td>\n",
       "      <td>31-45</td>\n",
       "      <td>Male</td>\n",
       "      <td>He/him/his</td>\n",
       "      <td>Caucasion</td>\n",
       "      <td>I do not identify with a religion or any spiri...</td>\n",
       "      <td>Democrat/moderate liberal</td>\n",
       "      <td>Bachelor's degree</td>\n",
       "      <td>NaN</td>\n",
       "      <td>...</td>\n",
       "      <td>Somewhat familiar</td>\n",
       "      <td>Very familiar</td>\n",
       "      <td>Very familiar</td>\n",
       "      <td>Somewhat unfamiliar</td>\n",
       "      <td>I think the field of ABA is new enough that ma...</td>\n",
       "      <td>NaN</td>\n",
       "      <td>Chrome 88.0.4324.182 / Windows</td>\n",
       "      <td>205.118.194.18</td>\n",
       "      <td>776160429</td>\n",
       "      <td>40.498199462891, -111.84359741211</td>\n",
       "    </tr>\n",
       "    <tr>\n",
       "      <th>300</th>\n",
       "      <td>3/9/21 23:45</td>\n",
       "      <td>Yes, I am at least 18 years of age, am a stude...</td>\n",
       "      <td>18-30</td>\n",
       "      <td>Female</td>\n",
       "      <td>She/her/hers</td>\n",
       "      <td>Mixed White and Black Caribbean</td>\n",
       "      <td>None</td>\n",
       "      <td>UK - left wing Green Party/labour</td>\n",
       "      <td>Master's degree</td>\n",
       "      <td>NaN</td>\n",
       "      <td>...</td>\n",
       "      <td>Very familiar</td>\n",
       "      <td>Very familiar</td>\n",
       "      <td>Somewhat familiar</td>\n",
       "      <td>Somewhat familiar</td>\n",
       "      <td>Ensure that everyone gets 'a seat at the table...</td>\n",
       "      <td>It was great that fields were left open so I c...</td>\n",
       "      <td>Mobile Safari 12.1.2 / iOS</td>\n",
       "      <td>94.204.111.63</td>\n",
       "      <td>776275507</td>\n",
       "      <td>24, 54</td>\n",
       "    </tr>\n",
       "    <tr>\n",
       "      <th>400</th>\n",
       "      <td>3/20/21 19:01</td>\n",
       "      <td>Yes, I am at least 18 years of age, am a stude...</td>\n",
       "      <td>31-45</td>\n",
       "      <td>Female</td>\n",
       "      <td>She/her/hers</td>\n",
       "      <td>White</td>\n",
       "      <td>None</td>\n",
       "      <td>Independent</td>\n",
       "      <td>Master's degree</td>\n",
       "      <td>NaN</td>\n",
       "      <td>...</td>\n",
       "      <td>Very familiar</td>\n",
       "      <td>Very familiar</td>\n",
       "      <td>Very familiar</td>\n",
       "      <td>Very familiar</td>\n",
       "      <td>Looking at socioeconomic background and making...</td>\n",
       "      <td>NaN</td>\n",
       "      <td>Mobile Safari 14.0.3 / iOS</td>\n",
       "      <td>69.207.101.121</td>\n",
       "      <td>781294861</td>\n",
       "      <td>43.224601745605, -77.592002868652</td>\n",
       "    </tr>\n",
       "  </tbody>\n",
       "</table>\n",
       "<p>5 rows × 53 columns</p>\n",
       "</div>"
      ],
      "text/plain": [
       "               Time                                            Consent  \\\n",
       "0    10/21/20 12:30  Yes, I am at least 18 years of age, am a stude...   \n",
       "100  10/28/20 12:27  Yes, I am at least 18 years of age, am a stude...   \n",
       "200    3/9/21 17:30  Yes, I am at least 18 years of age, am a stude...   \n",
       "300    3/9/21 23:45  Yes, I am at least 18 years of age, am a stude...   \n",
       "400   3/20/21 19:01  Yes, I am at least 18 years of age, am a stude...   \n",
       "\n",
       "    Q1 of 20. What is your age? Q2 of 20. With which gender do you identify?  \\\n",
       "0                         46-60                                         Male   \n",
       "100                       31-45                                         male   \n",
       "200                       31-45                                         Male   \n",
       "300                       18-30                                       Female   \n",
       "400                       31-45                                      Female    \n",
       "\n",
       "    Q3 of 20. What pronouns do you prefer?  \\\n",
       "0                               He/him/his   \n",
       "100                             He/him/his   \n",
       "200                             He/him/his   \n",
       "300                           She/her/hers   \n",
       "400                           She/her/hers   \n",
       "\n",
       "    Q4 of 20. With which ethnicity/race do you identify? Please list all that apply.  \\\n",
       "0                                               Jewish                                 \n",
       "100                                              White                                 \n",
       "200                                         Caucasion                                  \n",
       "300                   Mixed White and Black Caribbean                                  \n",
       "400                                              White                                 \n",
       "\n",
       "    Q5 of 20. With which religion do you identify? Please list all that apply, including if you do not identify with a religion.   \\\n",
       "0                                                 None                                                                              \n",
       "100                                               None                                                                              \n",
       "200  I do not identify with a religion or any spiri...                                                                              \n",
       "300                                               None                                                                              \n",
       "400                                              None                                                                               \n",
       "\n",
       "    Q6 of 20. With which political affiliation do you identify?  \\\n",
       "0                                          Libertarian            \n",
       "100              Democratic Socialist/Democratic Party            \n",
       "200                         Democrat/moderate liberal             \n",
       "300                  UK - left wing Green Party/labour            \n",
       "400                                       Independent             \n",
       "\n",
       "    Q7 of 20. What is the highest level of education you have completed? (If currently enrolled, please select highest degree received):  \\\n",
       "0                                      Doctoral degree                                                                                     \n",
       "100                                    Master's degree                                                                                     \n",
       "200                                  Bachelor's degree                                                                                     \n",
       "300                                    Master's degree                                                                                     \n",
       "400                                    Master's degree                                                                                     \n",
       "\n",
       "    Please specify other terminal degree  ...  \\\n",
       "0                                    NaN  ...   \n",
       "100                                  NaN  ...   \n",
       "200                                  NaN  ...   \n",
       "300                                  NaN  ...   \n",
       "400                                  NaN  ...   \n",
       "\n",
       "    Q18 of 20. Please rate your familiarity with the following terms: (Judaism)  \\\n",
       "0                                        Very familiar                            \n",
       "100                                      Very familiar                            \n",
       "200                                  Somewhat familiar                            \n",
       "300                                      Very familiar                            \n",
       "400                                      Very familiar                            \n",
       "\n",
       "    Q18 of 20. Please rate your familiarity with the following terms: (No religion (Atheist))  \\\n",
       "0                                        Very familiar                                          \n",
       "100                                      Very familiar                                          \n",
       "200                                      Very familiar                                          \n",
       "300                                      Very familiar                                          \n",
       "400                                      Very familiar                                          \n",
       "\n",
       "    Q18 of 20. Please rate your familiarity with the following terms: (Paganism)  \\\n",
       "0                                        Very familiar                             \n",
       "100                                  Somewhat familiar                             \n",
       "200                                      Very familiar                             \n",
       "300                                  Somewhat familiar                             \n",
       "400                                      Very familiar                             \n",
       "\n",
       "    Q18 of 20. Please rate your familiarity with the following terms: (Wiccan)  \\\n",
       "0                                        Very familiar                           \n",
       "100                                  Somewhat familiar                           \n",
       "200                                Somewhat unfamiliar                           \n",
       "300                                  Somewhat familiar                           \n",
       "400                                      Very familiar                           \n",
       "\n",
       "    Q19 of 20. What actionable items do you recommend we take as a field to increase diversity?  \\\n",
       "0    None, treat everyone as an individual and not ...                                            \n",
       "100  Invest  in recruiting  marginalized population...                                            \n",
       "200  I think the field of ABA is new enough that ma...                                            \n",
       "300  Ensure that everyone gets 'a seat at the table...                                            \n",
       "400  Looking at socioeconomic background and making...                                            \n",
       "\n",
       "    Q20 of 20. Please include any comments or feedback on how the demographic section of this survey can be improved to meet its goal of inclusivity and diversity.  \\\n",
       "0                                                  NaN                                                                                                                \n",
       "100                                                NaN                                                                                                                \n",
       "200                                                NaN                                                                                                                \n",
       "300  It was great that fields were left open so I c...                                                                                                                \n",
       "400                                                NaN                                                                                                                \n",
       "\n",
       "                            Browser      IP Address  Unique ID  \\\n",
       "0     Chrome 86.0.4240.75 / Windows    100.12.9.146  682348249   \n",
       "100            Safari 13.1.2 / OS X    74.85.93.162  688774433   \n",
       "200  Chrome 88.0.4324.182 / Windows  205.118.194.18  776160429   \n",
       "300      Mobile Safari 12.1.2 / iOS   94.204.111.63  776275507   \n",
       "400      Mobile Safari 14.0.3 / iOS  69.207.101.121  781294861   \n",
       "\n",
       "                              Location  \n",
       "0    40.620098114014, -73.751899719238  \n",
       "100  47.614498138428, -122.34799957275  \n",
       "200  40.498199462891, -111.84359741211  \n",
       "300                             24, 54  \n",
       "400  43.224601745605, -77.592002868652  \n",
       "\n",
       "[5 rows x 53 columns]"
      ]
     },
     "execution_count": 9,
     "metadata": {},
     "output_type": "execute_result"
    }
   ],
   "source": [
    "# Take a quick peek at every 100th row of the dataframe to make sure nothing looks off\n",
    "data[::100]"
   ]
  },
  {
   "cell_type": "markdown",
   "metadata": {},
   "source": [
    "## When programming, we often have to specify the column we're interested in looking at. The current column headers are very wordy. We'll rename the column headers to make them easier to work with. "
   ]
  },
  {
   "cell_type": "code",
   "execution_count": 13,
   "metadata": {},
   "outputs": [
    {
     "data": {
      "text/plain": [
       "['Time',\n",
       " 'Consent',\n",
       " 'Q1 of 20. What is your age?',\n",
       " 'Q2 of 20. With which gender do you identify?',\n",
       " 'Q3 of 20. What pronouns do you prefer?',\n",
       " 'Q4 of 20. With which ethnicity/race do you identify? Please list all that apply.',\n",
       " 'Q5 of 20. With which religion do you identify? Please list all that apply, including if you do not identify with a religion. ',\n",
       " 'Q6 of 20. With which political affiliation do you identify?',\n",
       " 'Q7 of 20. What is the highest level of education you have completed? (If currently enrolled, please select highest degree received):',\n",
       " 'Please specify other terminal degree',\n",
       " 'Q8 of 20. What is your annual household income?',\n",
       " 'Q9 of 20. Do you identify as having a disability?',\n",
       " 'If yes and you feel comfortable sharing, please specify:',\n",
       " 'Q10 of 20. Please select applicable certification and/or licenses (select all that apply):',\n",
       " 'Q11 of 20. How long have you identified as being in the field of behavior analysis?',\n",
       " 'Q12 of 20. How long have you been certified and/or licensed in the field of behavior analysis (calculated from the first certification or licensed received)?',\n",
       " 'Q13 of 20. In which country or countries do you reside? (Please select/list all that apply.)',\n",
       " 'Please specify province(s):',\n",
       " 'Please specify state(s):',\n",
       " 'Q14 of 20. If you are a practicing behavior analyst, in which country or countries do you practice? (select all that apply)',\n",
       " 'Please specify province(s):.1',\n",
       " 'Please specify state(s):.1',\n",
       " 'Q15 of 20. Please define \"diversity\":',\n",
       " 'Q16 of 20. Please rate your familiarity with the following terms: (Cisgender female)',\n",
       " 'Q16 of 20. Please rate your familiarity with the following terms: (Cisgender male)',\n",
       " 'Q16 of 20. Please rate your familiarity with the following terms: (Transgender female)',\n",
       " 'Q16 of 20. Please rate your familiarity with the following terms: (Transgender male)',\n",
       " 'Q16 of 20. Please rate your familiarity with the following terms: (Non-binary)',\n",
       " 'Q16 of 20. Please rate your familiarity with the following terms: (Gender fluid)',\n",
       " 'Q16 of 20. Please rate your familiarity with the following terms: (Gender neutral)',\n",
       " 'Q17 of 20. Please rate your familiarity with the following terms:  (Asian)',\n",
       " 'Q17 of 20. Please rate your familiarity with the following terms:  (Black/African)',\n",
       " 'Q17 of 20. Please rate your familiarity with the following terms:  (White)',\n",
       " 'Q17 of 20. Please rate your familiarity with the following terms:  (Hispanic/Latinx)',\n",
       " 'Q17 of 20. Please rate your familiarity with the following terms:  (Native American)',\n",
       " 'Q17 of 20. Please rate your familiarity with the following terms:  (Pacific Islander)',\n",
       " 'Q18 of 20. Please rate your familiarity with the following terms: (Agnostic)',\n",
       " 'Q18 of 20. Please rate your familiarity with the following terms: (Amish)',\n",
       " 'Q18 of 20. Please rate your familiarity with the following terms: (Buddhism)',\n",
       " 'Q18 of 20. Please rate your familiarity with the following terms: (Christianity)',\n",
       " 'Q18 of 20. Please rate your familiarity with the following terms: (Hinduism)',\n",
       " 'Q18 of 20. Please rate your familiarity with the following terms: (Islam)',\n",
       " \"Q18 of 20. Please rate your familiarity with the following terms: (Jehovah's Witness)\",\n",
       " 'Q18 of 20. Please rate your familiarity with the following terms: (Judaism)',\n",
       " 'Q18 of 20. Please rate your familiarity with the following terms: (No religion (Atheist))',\n",
       " 'Q18 of 20. Please rate your familiarity with the following terms: (Paganism)',\n",
       " 'Q18 of 20. Please rate your familiarity with the following terms: (Wiccan)',\n",
       " 'Q19 of 20. What actionable items do you recommend we take as a field to increase diversity?',\n",
       " 'Q20 of 20. Please include any comments or feedback on how the demographic section of this survey can be improved to meet its goal of inclusivity and diversity.',\n",
       " 'Browser',\n",
       " 'IP Address',\n",
       " 'Unique ID',\n",
       " 'Location']"
      ]
     },
     "execution_count": 13,
     "metadata": {},
     "output_type": "execute_result"
    }
   ],
   "source": [
    "# Take a look at the existing column headers\n",
    "list(data)"
   ]
  },
  {
   "cell_type": "code",
   "execution_count": 14,
   "metadata": {},
   "outputs": [],
   "source": [
    "# Use that text to create shorthand labels\n",
    "data.columns = ['time', \n",
    "               'consent', \n",
    "               'age', \n",
    "               'gender', \n",
    "               'pronouns', \n",
    "               'ethnicity', \n",
    "               'religion', \n",
    "               'political_affil', \n",
    "               'education', \n",
    "               'degree_name', \n",
    "               'income', \n",
    "               'disability', \n",
    "               'disability_name', \n",
    "               'cert_license', \n",
    "               'time_in_bx_anal', \n",
    "               'time_cert_license', \n",
    "               'country_live', \n",
    "               'province_live', \n",
    "               'state_live',\n",
    "               'country_practice', \n",
    "               'province_practice', \n",
    "               'state_practice',\n",
    "               'define_diversity', \n",
    "               'familiar_cis_fem', \n",
    "               'familiar_cis_male', \n",
    "               'familiar_trans_fem', \n",
    "               'familiar_trans_male', \n",
    "               'familiar_non_binary', \n",
    "               'familiar_gender_fluid', \n",
    "               'familiar_gender_neutral', \n",
    "               'familiar_asian', \n",
    "               'familiar_black', \n",
    "               'familiar_white', \n",
    "               'familiar_latinx', \n",
    "               'familiar_nat_amer', \n",
    "               'familiar_pac_isl', \n",
    "               'familiar_agnostic', \n",
    "               'familiar_amish', \n",
    "               'familiar_buddhism', \n",
    "               'familiar_christian', \n",
    "               'familiar_hinduism', \n",
    "               'familiar_islam', \n",
    "               'familiar_jehovah', \n",
    "               'familiar_judaism', \n",
    "               'familiar_atheist', \n",
    "               'familiar_paganism', \n",
    "               'familiar_wiccan', \n",
    "               'actions_recommend', \n",
    "               'survey_feedback', \n",
    "               'browser',\n",
    "               'ip_address',\n",
    "               'unique_id',\n",
    "               'location']"
   ]
  },
  {
   "cell_type": "code",
   "execution_count": 17,
   "metadata": {},
   "outputs": [],
   "source": [
    "# Save it for future quick use\n",
    "data.to_csv('./data/03_primary/clean_headers.csv')"
   ]
  },
  {
   "cell_type": "markdown",
   "metadata": {
    "id": "Te7HEOg5KXZI"
   },
   "source": [
    "## Sweetviz for quick EDA on dataframe"
   ]
  },
  {
   "cell_type": "code",
   "execution_count": 20,
   "metadata": {
    "colab": {
     "base_uri": "https://localhost:8080/",
     "height": 86,
     "referenced_widgets": [
      "c3622155ce79496fb1877a2eff7c2fda",
      "93c69ba7e0b6429abb02ca580c2d53eb",
      "0b2455c78bf84c308727c947862279a0",
      "308fb62995904595a031bcab3cbe2718",
      "b42e92b6f2f948e2b53818c4586f0762",
      "1960a928b1e24aa2957aaaa960058dc8",
      "263387e72da34c3aac3bd0d852ce38a0",
      "a133e7f2a2514204897d05d1e880d338",
      "77b68d63f1a34682a99ba273f8ceaee1",
      "cddcf84dc55f47d4a26be5caebd0a958",
      "2464cc15bccb4cbd8ed52e6ffa77c460"
     ]
    },
    "id": "dXloi3zF4tdh",
    "outputId": "f4c72715-4f97-44f3-8958-3dbbb94a5e56"
   },
   "outputs": [
    {
     "data": {
      "application/vnd.jupyter.widget-view+json": {
       "model_id": "d97aae4ca8fb42a4837dfca023234c52",
       "version_major": 2,
       "version_minor": 0
      },
      "text/plain": [
       "                                             |          | [  0%]   00:00 -> (? left)"
      ]
     },
     "metadata": {},
     "output_type": "display_data"
    },
    {
     "name": "stdout",
     "output_type": "stream",
     "text": [
      "Report ./figures/sweetviz_report.html was generated! NOTEBOOK/COLAB USERS: the web browser MAY not pop up, regardless, the report IS saved in your notebook/colab files.\n"
     ]
    }
   ],
   "source": [
    "# Run the report\n",
    "report = sv.analyze(data)\n",
    "\n",
    "# Show the report\n",
    "report.show_html(filepath='./figures/sweetviz_report.html', \n",
    "                     open_browser=True, \n",
    "                     layout='widescreen', \n",
    "                     scale=None)"
   ]
  },
  {
   "cell_type": "markdown",
   "metadata": {
    "id": "gBKolIo3XGaU"
   },
   "source": [
    "# Topic modeling"
   ]
  },
  {
   "cell_type": "code",
   "execution_count": 18,
   "metadata": {
    "id": "Bv5K4HTecysK"
   },
   "outputs": [],
   "source": [
    "# Convert the text data we're interested in to lowercase. \n",
    "data['actions_recommend'] = data['actions_recommend'].str.lower()"
   ]
  },
  {
   "cell_type": "code",
   "execution_count": 32,
   "metadata": {},
   "outputs": [],
   "source": [
    "# Some of the rows express no response differently. Here are those ways:\n",
    "remove_list = ['-', 'n/a', 'nan']"
   ]
  },
  {
   "cell_type": "code",
   "execution_count": 42,
   "metadata": {
    "id": "5_Y2cF8N-rQj"
   },
   "outputs": [
    {
     "name": "stdout",
     "output_type": "stream",
     "text": [
      "The number of rows we have with text data = 321. This is 78.87% of the original dataset.\n"
     ]
    }
   ],
   "source": [
    "# Isolate the rows that actually have data in the actions recommend section\n",
    "df = data[~data['actions_recommend'].isin(remove_list)]\n",
    "df = df.reset_index(drop=True)\n",
    "print(f\"The number of rows we have with text data = {len(df)}. This is {round((len(df)/len(data))*100, 2)}% of the original dataset.\")"
   ]
  },
  {
   "cell_type": "code",
   "execution_count": 84,
   "metadata": {},
   "outputs": [],
   "source": [
    "def tokenize(text):\n",
    "    lda_tokens = []\n",
    "    tokens = parser(text)\n",
    "    for token in tokens:\n",
    "        if token.orth_.isspace():\n",
    "            continue\n",
    "        elif token.like_url:\n",
    "            lda_tokens.append('URL')\n",
    "        elif token.orth_.startswith('@'):\n",
    "            lda_tokens.append('TWITTER_HANDLE')\n",
    "        else:\n",
    "            lda_tokens.append(token.lower_)\n",
    "    return lda_tokens\n",
    "\n",
    "def get_lemma(word):\n",
    "    lemma = wn.morphy(word)\n",
    "    if lemma is None:\n",
    "        return word\n",
    "    else:\n",
    "        return lemma\n",
    "\n",
    "def get_lemma2(word):\n",
    "    return WordNetLemmatizer().lemmatize(word)\n",
    "\n",
    "def prepare_text_for_lda(text):\n",
    "    tokens = tokenize(text)\n",
    "    tokens = [token for token in tokens if len(token) > 4]\n",
    "    tokens = [token for token in tokens if token not in en_stop]\n",
    "    tokens = [get_lemma(token) for token in tokens]\n",
    "    return tokens\n",
    "\n",
    "def lda_model_grid(df, col):\n",
    "  df_text = []\n",
    "  for i in range(10):\n",
    "      tokens = df[col][i]\n",
    "      df_text.append(tok for tok in tokens)\n",
    "      df_text.append(tokens)\n",
    "\n",
    "  df_dict = corpora.Dictionary(df_text)\n",
    "  df_corpus = [df_dict.doc2bow(text) for text in df[col]]\n",
    "\n",
    "  # Create model and save\n",
    "  topics = []\n",
    "  complexity = []\n",
    "  coherence = []\n",
    "  for i in range(2, 20):\n",
    "    print(f\"Checking model with {i} topics.\")\n",
    "    # Build model\n",
    "    lda_model = gensim.models.ldamodel.LdaModel(corpus=df_corpus, \n",
    "                                                  id2word=df_dict, \n",
    "                                                  num_topics=i, \n",
    "                                                  random_state=100,\n",
    "                                                  update_every=1, \n",
    "                                                  chunksize=1000, \n",
    "                                                  passes=10, \n",
    "                                                  alpha='auto', \n",
    "                                                  per_word_topics=True)\n",
    "    # Compute complexity and coherence score\n",
    "    cmplx = lda_model.log_perplexity(df_corpus)\n",
    "    coherence_model_lda = CoherenceModel(model=lda_model, \n",
    "                                        texts=df[col], \n",
    "                                        dictionary=df_dict, \n",
    "                                        coherence='c_v')\n",
    "    coh = coherence_model_lda.get_coherence()\n",
    "    topics.append(i)\n",
    "    complexity.append(cmplx)\n",
    "    coherence.append(coh)\n",
    "\n",
    "  # Save as a df\n",
    "  df_df = pd.DataFrame({'topics': topics, \n",
    "                        'complexity':complexity, \n",
    "                        'coherence':coherence})\n",
    "  return df_df\n",
    "\n",
    "def line_plot(df, col, save_name, title):\n",
    "  plt.figure(figsize=(10, 7))\n",
    "  sns.lineplot(x='topics', y=col, marker='o', \n",
    "                size=15, color='k', data=df, \n",
    "               legend=False)\n",
    "  plt.ylabel(col, fontsize=24, labelpad=20)\n",
    "  plt.yticks(fontsize=18)\n",
    "  plt.xlabel(\"Topics\", fontsize=24, labelpad=20)\n",
    "  plt.xticks(ticks=[2, 4, 6, 8, 10, 12, 14, 16, 18, 20], \n",
    "             labels=[2, 4, 6, 8, 10, 12, 14, 16, 18, 20], \n",
    "             fontsize=18)\n",
    "  plt.savefig(f'./figures/{save_name}.png', bbox_inches='tight')\n",
    "  plt.title(title, loc='right', pad=-20)\n",
    "  plt.show()\n",
    "\n",
    "def lda_one_topic(df, col, topics, savename):\n",
    "  df_text = []\n",
    "  for i in range(10):\n",
    "      tokens = df[col][i]\n",
    "      df_text.append(tok for tok in tokens)\n",
    "      df_text.append(tokens)\n",
    "\n",
    "  df_dict = corpora.Dictionary(df_text)\n",
    "  df_corpus = [df_dict.doc2bow(text) for text in df[col]]\n",
    "\n",
    "  # Build model\n",
    "  lda_model = gensim.models.ldamodel.LdaModel(corpus=df_corpus, \n",
    "                                              id2word=df_dict, \n",
    "                                              num_topics=topics, \n",
    "                                              random_state=100,\n",
    "                                              update_every=1, \n",
    "                                              chunksize=1000, \n",
    "                                              passes=10, \n",
    "                                              alpha='auto', \n",
    "                                              per_word_topics=True)\n",
    "  lda_model.save(f'{savename}.gensim')\n",
    "  all_topics = lda_model.print_topics(num_words=50)\n",
    "  all_topics = pd.DataFrame(all_topics)\n",
    "  all_topics.to_csv(f'./data/07_model_output/topic_words_{savename}.csv')\n",
    "  pyLDAvis.enable_notebook()\n",
    "  lda_display = pyLDAvis.gensim_models.prepare(lda_model, \n",
    "                                              df_corpus, \n",
    "                                              df_dict, \n",
    "                                              sort_topics=False)\n",
    "  pyLDAvis.display(lda_display)\n",
    "  pyLDAvis.save_html(lda_display, f'./figures/lda_vis_{savename}.html')\n",
    "  return all_topics"
   ]
  },
  {
   "cell_type": "markdown",
   "metadata": {},
   "source": [
    "## Text Cleaning"
   ]
  },
  {
   "cell_type": "code",
   "execution_count": 49,
   "metadata": {},
   "outputs": [
    {
     "name": "stdout",
     "output_type": "stream",
     "text": [
      "['increase', 'diversity', 'level', 'recruit', 'technician', 'bcbas']\n",
      "['research', 'topic', 'cheap']\n",
      "['educate', 'racism', 'issue', 'impact', 'provide', 'services']\n",
      "['suppose', 'ensure', 'individual', 'especially', 'commonly', 'represent', 'field', 'seeking', 'enter', 'field', 'opportunity', 'exposure', 'academic', 'practitioner', 'side', 'field']\n",
      "['diversify', 'payor', 'source', 'serve', 'break', 'servicing', 'various', 'payor', 'source', 'state', 'plan', 'increase', 'integrity', 'clinical', 'outcome', 'remain', 'standing', 'state', 'funding', 'source', 'ensure', 'client', 'payor', 'remain', 'serve', 'marketing', 'rural', 'area', 'dense', 'population', 'state', 'funding', 'source', 'inclusionary', 'terms', 'marketing', 'form', 'treat']\n",
      "['try', 'think', 'outside', 'come', 'complete', 'research', 'apply', 'research', 'something', 'bill', 'base', 'regulatory', 'legislative', 'restriction', 'research', 'practice', 'consider', 'personal', 'experience', 'cultural', 'experience', 'reinforce', 'and/or', 'punish', 'behavior', 'research']\n",
      "['include', 'requirement', 'address', 'racial', 'inequity', 'increase', 'awareness', 'relate', 'sexual', 'orientation']\n",
      "['ensure', 'everyone', 'table', 'listening', 'diverse', 'voice', 'allocate', 'position', 'power', 'perspective', 'shape', 'policy', 'decision', 'making', 'directly', 'appreciate', 'majority', 'consumer', 'autistic', 'subsequently', 'voice', 'loud']\n",
      "['additional', 'outreach', 'resource', 'provide', 'recruit', 'individual', 'working', 'ground', 'leadership', 'position']\n"
     ]
    },
    {
     "name": "stderr",
     "output_type": "stream",
     "text": [
      "/usr/local/anaconda3/lib/python3.8/site-packages/ipykernel/ipkernel.py:287: DeprecationWarning: `should_run_async` will not call `transform_cell` automatically in the future. Please pass the result to `transformed_cell` argument and any exception that happen during thetransform in `preprocessing_exc_tuple` in IPython 7.17 and above.\n",
      "  and should_run_async(code)\n"
     ]
    }
   ],
   "source": [
    "# Clean up data for topic modeling\n",
    "import random\n",
    "text_data = []\n",
    "for i in range(len(df)):\n",
    "    tokens = prepare_text_for_lda(df['actions_recommend'][i])\n",
    "    text_data.append(tokens)\n",
    "    if random.random()>0.97:\n",
    "        print(tokens)\n",
    "\n",
    "df['token_text'] = text_data"
   ]
  },
  {
   "cell_type": "markdown",
   "metadata": {},
   "source": [
    "## Wordcloud: Everyone loves a good wordcloud. So let's create one. "
   ]
  },
  {
   "cell_type": "code",
   "execution_count": 60,
   "metadata": {},
   "outputs": [],
   "source": [
    "# Import wordcloud library\n",
    "# !conda install -c conda-forge wordcloud\n",
    "from wordcloud import WordCloud"
   ]
  },
  {
   "cell_type": "code",
   "execution_count": 61,
   "metadata": {},
   "outputs": [],
   "source": [
    "# Join all responses together\n",
    "list_all = list(set([a for b in df['token_text'].tolist() for a in b]))\n",
    "all_text = \", \".join(list_all)"
   ]
  },
  {
   "cell_type": "code",
   "execution_count": 66,
   "metadata": {},
   "outputs": [
    {
     "data": {
      "image/png": "[encoded data removed]",
      "text/plain": [
       "<Figure size 600x400 with 1 Axes>"
      ]
     },
     "metadata": {},
     "output_type": "display_data"
    }
   ],
   "source": [
    "# Create wordcloud objects\n",
    "wordcloud = WordCloud(background_color='white', \n",
    "                      max_words=100, \n",
    "                      contour_width=3, \n",
    "                      collocations=True)\n",
    "wordcloud.generate(all_text)\n",
    "wordcloud.to_image()\n",
    "plt.imshow(wordcloud, interpolation='bilinear')\n",
    "plt.axis(\"off\")\n",
    "plt.show()"
   ]
  },
  {
   "cell_type": "markdown",
   "metadata": {},
   "source": [
    "## LDA with Gensim"
   ]
  },
  {
   "cell_type": "code",
   "execution_count": 76,
   "metadata": {},
   "outputs": [
    {
     "name": "stdout",
     "output_type": "stream",
     "text": [
      "Checking model with 2 topics.\n",
      "Checking model with 3 topics.\n",
      "Checking model with 4 topics.\n",
      "Checking model with 5 topics.\n",
      "Checking model with 6 topics.\n",
      "Checking model with 7 topics.\n",
      "Checking model with 8 topics.\n",
      "Checking model with 9 topics.\n",
      "Checking model with 10 topics.\n",
      "Checking model with 11 topics.\n",
      "Checking model with 12 topics.\n",
      "Checking model with 13 topics.\n",
      "Checking model with 14 topics.\n",
      "Checking model with 15 topics.\n",
      "Checking model with 16 topics.\n",
      "Checking model with 17 topics.\n",
      "Checking model with 18 topics.\n",
      "Checking model with 19 topics.\n"
     ]
    }
   ],
   "source": [
    "# LDA for all text responses\n",
    "import warnings\n",
    "warnings.filterwarnings(\"ignore\")\n",
    "all_lda = lda_model_grid(df=df, col='token_text')"
   ]
  },
  {
   "cell_type": "code",
   "execution_count": 81,
   "metadata": {},
   "outputs": [
    {
     "data": {
      "image/png": "[encoded data removed]",
      "text/plain": [
       "<Figure size 1000x700 with 1 Axes>"
      ]
     },
     "metadata": {},
     "output_type": "display_data"
    },
    {
     "data": {
      "image/png": "[encoded data removed]",
      "text/plain": [
       "<Figure size 1000x700 with 1 Axes>"
      ]
     },
     "metadata": {},
     "output_type": "display_data"
    }
   ],
   "source": [
    "# Graph the results\n",
    "line_plot(df=all_lda, col='complexity', save_name='complexity', title='Lower is Better')\n",
    "line_plot(df=all_lda, col='coherence', save_name='coherence', title='Higher is Better')"
   ]
  },
  {
   "cell_type": "markdown",
   "metadata": {},
   "source": [
    "## Build topic models using the least complex and most coherent number of topics. "
   ]
  },
  {
   "cell_type": "code",
   "execution_count": 85,
   "metadata": {},
   "outputs": [],
   "source": [
    "# 7 topics\n",
    "topics = lda_one_topic(df=df, col='token_text', topics=7, savename='actions_recommend_7')"
   ]
  },
  {
   "cell_type": "code",
   "execution_count": 86,
   "metadata": {},
   "outputs": [],
   "source": [
    "# 12 topics\n",
    "topics = lda_one_topic(df=df, col='token_text', topics=7, savename='actions_recommend_12')"
   ]
  },
  {
   "cell_type": "code",
   "execution_count": 87,
   "metadata": {},
   "outputs": [],
   "source": [
    "# 16 topics\n",
    "topics = lda_one_topic(df=df, col='token_text', topics=7, savename='actions_recommend_16')"
   ]
  },
  {
   "cell_type": "code",
   "execution_count": 88,
   "metadata": {},
   "outputs": [],
   "source": [
    "# 18 topics\n",
    "topics = lda_one_topic(df=df, col='token_text', topics=7, savename='actions_recommend_18')"
   ]
  }
 ],
 "metadata": {
  "accelerator": "GPU",
  "colab": {
   "collapsed_sections": [
    "gBKolIo3XGaU",
    "KnO5o29qn0gN",
    "r_u5_hVIKC6o",
    "gCbFY5UpKMVS",
    "Te7HEOg5KXZI"
   ],
   "include_colab_link": true,
   "machine_shape": "hm",
   "name": "dabl_analyses_emoji_corrs.ipynb",
   "provenance": []
  },
  "kernelspec": {
   "display_name": "Python 3",
   "language": "python",
   "name": "python3"
  },
  "language_info": {
   "codemirror_mode": {
    "name": "ipython",
    "version": 3
   },
   "file_extension": ".py",
   "mimetype": "text/x-python",
   "name": "python",
   "nbconvert_exporter": "python",
   "pygments_lexer": "ipython3",
   "version": "3.8.8"
  },
  "varInspector": {
   "cols": {
    "lenName": 16,
    "lenType": 16,
    "lenVar": 40
   },
   "kernels_config": {
    "python": {
     "delete_cmd_postfix": "",
     "delete_cmd_prefix": "del ",
     "library": "var_list.py",
     "varRefreshCmd": "print(var_dic_list())"
    },
    "r": {
     "delete_cmd_postfix": ") ",
     "delete_cmd_prefix": "rm(",
     "library": "var_list.r",
     "varRefreshCmd": "cat(var_dic_list()) "
    }
   },
   "types_to_exclude": [
    "module",
    "function",
    "builtin_function_or_method",
    "instance",
    "_Feature"
   ],
   "window_display": false
  },
  "widgets": {
   "application/vnd.jupyter.widget-state+json": {
    "0b2455c78bf84c308727c947862279a0": {
     "model_module": "@jupyter-widgets/controls",
     "model_module_version": "1.5.0",
     "model_name": "HTMLModel",
     "state": {
      "_dom_classes": [],
      "_model_module": "@jupyter-widgets/controls",
      "_model_module_version": "1.5.0",
      "_model_name": "HTMLModel",
      "_view_count": null,
      "_view_module": "@jupyter-widgets/controls",
      "_view_module_version": "1.5.0",
      "_view_name": "HTMLView",
      "description": "",
      "description_tooltip": null,
      "layout": "IPY_MODEL_263387e72da34c3aac3bd0d852ce38a0",
      "placeholder": "​",
      "style": "IPY_MODEL_1960a928b1e24aa2957aaaa960058dc8",
      "value": "Done! Use &#x27;show&#x27; commands to display/save.   "
     }
    },
    "1960a928b1e24aa2957aaaa960058dc8": {
     "model_module": "@jupyter-widgets/controls",
     "model_module_version": "1.5.0",
     "model_name": "DescriptionStyleModel",
     "state": {
      "_model_module": "@jupyter-widgets/controls",
      "_model_module_version": "1.5.0",
      "_model_name": "DescriptionStyleModel",
      "_view_count": null,
      "_view_module": "@jupyter-widgets/base",
      "_view_module_version": "1.2.0",
      "_view_name": "StyleView",
      "description_width": ""
     }
    },
    "2464cc15bccb4cbd8ed52e6ffa77c460": {
     "model_module": "@jupyter-widgets/base",
     "model_module_version": "1.2.0",
     "model_name": "LayoutModel",
     "state": {
      "_model_module": "@jupyter-widgets/base",
      "_model_module_version": "1.2.0",
      "_model_name": "LayoutModel",
      "_view_count": null,
      "_view_module": "@jupyter-widgets/base",
      "_view_module_version": "1.2.0",
      "_view_name": "LayoutView",
      "align_content": null,
      "align_items": null,
      "align_self": null,
      "border": null,
      "bottom": null,
      "display": null,
      "flex": null,
      "flex_flow": null,
      "grid_area": null,
      "grid_auto_columns": null,
      "grid_auto_flow": null,
      "grid_auto_rows": null,
      "grid_column": null,
      "grid_gap": null,
      "grid_row": null,
      "grid_template_areas": null,
      "grid_template_columns": null,
      "grid_template_rows": null,
      "height": null,
      "justify_content": null,
      "justify_items": null,
      "left": null,
      "margin": null,
      "max_height": null,
      "max_width": null,
      "min_height": null,
      "min_width": null,
      "object_fit": null,
      "object_position": null,
      "order": null,
      "overflow": null,
      "overflow_x": null,
      "overflow_y": null,
      "padding": null,
      "right": null,
      "top": null,
      "visibility": null,
      "width": null
     }
    },
    "263387e72da34c3aac3bd0d852ce38a0": {
     "model_module": "@jupyter-widgets/base",
     "model_module_version": "1.2.0",
     "model_name": "LayoutModel",
     "state": {
      "_model_module": "@jupyter-widgets/base",
      "_model_module_version": "1.2.0",
      "_model_name": "LayoutModel",
      "_view_count": null,
      "_view_module": "@jupyter-widgets/base",
      "_view_module_version": "1.2.0",
      "_view_name": "LayoutView",
      "align_content": null,
      "align_items": null,
      "align_self": null,
      "border": null,
      "bottom": null,
      "display": null,
      "flex": null,
      "flex_flow": null,
      "grid_area": null,
      "grid_auto_columns": null,
      "grid_auto_flow": null,
      "grid_auto_rows": null,
      "grid_column": null,
      "grid_gap": null,
      "grid_row": null,
      "grid_template_areas": null,
      "grid_template_columns": null,
      "grid_template_rows": null,
      "height": null,
      "justify_content": null,
      "justify_items": null,
      "left": null,
      "margin": null,
      "max_height": null,
      "max_width": null,
      "min_height": null,
      "min_width": null,
      "object_fit": null,
      "object_position": null,
      "order": null,
      "overflow": null,
      "overflow_x": null,
      "overflow_y": null,
      "padding": null,
      "right": null,
      "top": null,
      "visibility": null,
      "width": null
     }
    },
    "308fb62995904595a031bcab3cbe2718": {
     "model_module": "@jupyter-widgets/controls",
     "model_module_version": "1.5.0",
     "model_name": "FloatProgressModel",
     "state": {
      "_dom_classes": [],
      "_model_module": "@jupyter-widgets/controls",
      "_model_module_version": "1.5.0",
      "_model_name": "FloatProgressModel",
      "_view_count": null,
      "_view_module": "@jupyter-widgets/controls",
      "_view_module_version": "1.5.0",
      "_view_name": "ProgressView",
      "bar_style": "success",
      "description": "",
      "description_tooltip": null,
      "layout": "IPY_MODEL_77b68d63f1a34682a99ba273f8ceaee1",
      "max": 1,
      "min": 0,
      "orientation": "horizontal",
      "style": "IPY_MODEL_a133e7f2a2514204897d05d1e880d338",
      "value": 1
     }
    },
    "320b04b8149f420782a2d2851b7b95e8": {
     "model_module": "@jupyter-widgets/base",
     "model_module_version": "1.2.0",
     "model_name": "LayoutModel",
     "state": {
      "_model_module": "@jupyter-widgets/base",
      "_model_module_version": "1.2.0",
      "_model_name": "LayoutModel",
      "_view_count": null,
      "_view_module": "@jupyter-widgets/base",
      "_view_module_version": "1.2.0",
      "_view_name": "LayoutView",
      "align_content": null,
      "align_items": null,
      "align_self": null,
      "border": null,
      "bottom": null,
      "display": "inline-flex",
      "flex": null,
      "flex_flow": "row wrap",
      "grid_area": null,
      "grid_auto_columns": null,
      "grid_auto_flow": null,
      "grid_auto_rows": null,
      "grid_column": null,
      "grid_gap": null,
      "grid_row": null,
      "grid_template_areas": null,
      "grid_template_columns": null,
      "grid_template_rows": null,
      "height": null,
      "justify_content": null,
      "justify_items": null,
      "left": null,
      "margin": null,
      "max_height": null,
      "max_width": null,
      "min_height": null,
      "min_width": null,
      "object_fit": null,
      "object_position": null,
      "order": null,
      "overflow": null,
      "overflow_x": null,
      "overflow_y": null,
      "padding": null,
      "right": null,
      "top": null,
      "visibility": null,
      "width": "100%"
     }
    },
    "378fd4ee1d44408f9a762c5db7ea8232": {
     "model_module": "@jupyter-widgets/controls",
     "model_module_version": "1.5.0",
     "model_name": "HTMLModel",
     "state": {
      "_dom_classes": [],
      "_model_module": "@jupyter-widgets/controls",
      "_model_module_version": "1.5.0",
      "_model_name": "HTMLModel",
      "_view_count": null,
      "_view_module": "@jupyter-widgets/controls",
      "_view_module_version": "1.5.0",
      "_view_name": "HTMLView",
      "description": "",
      "description_tooltip": null,
      "layout": "IPY_MODEL_e333fd41aadc471fa8dc26094728617c",
      "placeholder": "​",
      "style": "IPY_MODEL_f813f9e4effe41ad9b3c83fc60757f70",
      "value": " [100%]   00:01 -&gt; (00:00 left)"
     }
    },
    "584186fb53ba4f709d044908a43d7f68": {
     "model_module": "@jupyter-widgets/controls",
     "model_module_version": "1.5.0",
     "model_name": "HTMLModel",
     "state": {
      "_dom_classes": [],
      "_model_module": "@jupyter-widgets/controls",
      "_model_module_version": "1.5.0",
      "_model_name": "HTMLModel",
      "_view_count": null,
      "_view_module": "@jupyter-widgets/controls",
      "_view_module_version": "1.5.0",
      "_view_name": "HTMLView",
      "description": "",
      "description_tooltip": null,
      "layout": "IPY_MODEL_ed7512edf45d40ae8fdfd13318a1b57c",
      "placeholder": "​",
      "style": "IPY_MODEL_f2a25df7eb1b4a4685a37310f1fe114b",
      "value": "Done! Use &#x27;show&#x27; commands to display/save.   "
     }
    },
    "77b68d63f1a34682a99ba273f8ceaee1": {
     "model_module": "@jupyter-widgets/base",
     "model_module_version": "1.2.0",
     "model_name": "LayoutModel",
     "state": {
      "_model_module": "@jupyter-widgets/base",
      "_model_module_version": "1.2.0",
      "_model_name": "LayoutModel",
      "_view_count": null,
      "_view_module": "@jupyter-widgets/base",
      "_view_module_version": "1.2.0",
      "_view_name": "LayoutView",
      "align_content": null,
      "align_items": null,
      "align_self": null,
      "border": null,
      "bottom": null,
      "display": null,
      "flex": "2",
      "flex_flow": null,
      "grid_area": null,
      "grid_auto_columns": null,
      "grid_auto_flow": null,
      "grid_auto_rows": null,
      "grid_column": null,
      "grid_gap": null,
      "grid_row": null,
      "grid_template_areas": null,
      "grid_template_columns": null,
      "grid_template_rows": null,
      "height": null,
      "justify_content": null,
      "justify_items": null,
      "left": null,
      "margin": null,
      "max_height": null,
      "max_width": null,
      "min_height": null,
      "min_width": null,
      "object_fit": null,
      "object_position": null,
      "order": null,
      "overflow": null,
      "overflow_x": null,
      "overflow_y": null,
      "padding": null,
      "right": null,
      "top": null,
      "visibility": null,
      "width": null
     }
    },
    "8d0c55e0ac31454dab416da24cb5c013": {
     "model_module": "@jupyter-widgets/base",
     "model_module_version": "1.2.0",
     "model_name": "LayoutModel",
     "state": {
      "_model_module": "@jupyter-widgets/base",
      "_model_module_version": "1.2.0",
      "_model_name": "LayoutModel",
      "_view_count": null,
      "_view_module": "@jupyter-widgets/base",
      "_view_module_version": "1.2.0",
      "_view_name": "LayoutView",
      "align_content": null,
      "align_items": null,
      "align_self": null,
      "border": null,
      "bottom": null,
      "display": null,
      "flex": "2",
      "flex_flow": null,
      "grid_area": null,
      "grid_auto_columns": null,
      "grid_auto_flow": null,
      "grid_auto_rows": null,
      "grid_column": null,
      "grid_gap": null,
      "grid_row": null,
      "grid_template_areas": null,
      "grid_template_columns": null,
      "grid_template_rows": null,
      "height": null,
      "justify_content": null,
      "justify_items": null,
      "left": null,
      "margin": null,
      "max_height": null,
      "max_width": null,
      "min_height": null,
      "min_width": null,
      "object_fit": null,
      "object_position": null,
      "order": null,
      "overflow": null,
      "overflow_x": null,
      "overflow_y": null,
      "padding": null,
      "right": null,
      "top": null,
      "visibility": null,
      "width": null
     }
    },
    "93c69ba7e0b6429abb02ca580c2d53eb": {
     "model_module": "@jupyter-widgets/base",
     "model_module_version": "1.2.0",
     "model_name": "LayoutModel",
     "state": {
      "_model_module": "@jupyter-widgets/base",
      "_model_module_version": "1.2.0",
      "_model_name": "LayoutModel",
      "_view_count": null,
      "_view_module": "@jupyter-widgets/base",
      "_view_module_version": "1.2.0",
      "_view_name": "LayoutView",
      "align_content": null,
      "align_items": null,
      "align_self": null,
      "border": null,
      "bottom": null,
      "display": "inline-flex",
      "flex": null,
      "flex_flow": "row wrap",
      "grid_area": null,
      "grid_auto_columns": null,
      "grid_auto_flow": null,
      "grid_auto_rows": null,
      "grid_column": null,
      "grid_gap": null,
      "grid_row": null,
      "grid_template_areas": null,
      "grid_template_columns": null,
      "grid_template_rows": null,
      "height": null,
      "justify_content": null,
      "justify_items": null,
      "left": null,
      "margin": null,
      "max_height": null,
      "max_width": null,
      "min_height": null,
      "min_width": null,
      "object_fit": null,
      "object_position": null,
      "order": null,
      "overflow": null,
      "overflow_x": null,
      "overflow_y": null,
      "padding": null,
      "right": null,
      "top": null,
      "visibility": null,
      "width": "100%"
     }
    },
    "940bee434066443eb55aace3a666e7d1": {
     "model_module": "@jupyter-widgets/controls",
     "model_module_version": "1.5.0",
     "model_name": "FloatProgressModel",
     "state": {
      "_dom_classes": [],
      "_model_module": "@jupyter-widgets/controls",
      "_model_module_version": "1.5.0",
      "_model_name": "FloatProgressModel",
      "_view_count": null,
      "_view_module": "@jupyter-widgets/controls",
      "_view_module_version": "1.5.0",
      "_view_name": "ProgressView",
      "bar_style": "success",
      "description": "",
      "description_tooltip": null,
      "layout": "IPY_MODEL_8d0c55e0ac31454dab416da24cb5c013",
      "max": 1,
      "min": 0,
      "orientation": "horizontal",
      "style": "IPY_MODEL_a6b0d87544914714b6b09f1cb0cfd2d4",
      "value": 1
     }
    },
    "9f52fb9862364bcabd52cdd43cbf2708": {
     "model_module": "@jupyter-widgets/controls",
     "model_module_version": "1.5.0",
     "model_name": "HBoxModel",
     "state": {
      "_dom_classes": [],
      "_model_module": "@jupyter-widgets/controls",
      "_model_module_version": "1.5.0",
      "_model_name": "HBoxModel",
      "_view_count": null,
      "_view_module": "@jupyter-widgets/controls",
      "_view_module_version": "1.5.0",
      "_view_name": "HBoxView",
      "box_style": "",
      "children": [
       "IPY_MODEL_584186fb53ba4f709d044908a43d7f68",
       "IPY_MODEL_940bee434066443eb55aace3a666e7d1",
       "IPY_MODEL_378fd4ee1d44408f9a762c5db7ea8232"
      ],
      "layout": "IPY_MODEL_320b04b8149f420782a2d2851b7b95e8"
     }
    },
    "a133e7f2a2514204897d05d1e880d338": {
     "model_module": "@jupyter-widgets/controls",
     "model_module_version": "1.5.0",
     "model_name": "ProgressStyleModel",
     "state": {
      "_model_module": "@jupyter-widgets/controls",
      "_model_module_version": "1.5.0",
      "_model_name": "ProgressStyleModel",
      "_view_count": null,
      "_view_module": "@jupyter-widgets/base",
      "_view_module_version": "1.2.0",
      "_view_name": "StyleView",
      "bar_color": null,
      "description_width": ""
     }
    },
    "a6b0d87544914714b6b09f1cb0cfd2d4": {
     "model_module": "@jupyter-widgets/controls",
     "model_module_version": "1.5.0",
     "model_name": "ProgressStyleModel",
     "state": {
      "_model_module": "@jupyter-widgets/controls",
      "_model_module_version": "1.5.0",
      "_model_name": "ProgressStyleModel",
      "_view_count": null,
      "_view_module": "@jupyter-widgets/base",
      "_view_module_version": "1.2.0",
      "_view_name": "StyleView",
      "bar_color": null,
      "description_width": ""
     }
    },
    "b42e92b6f2f948e2b53818c4586f0762": {
     "model_module": "@jupyter-widgets/controls",
     "model_module_version": "1.5.0",
     "model_name": "HTMLModel",
     "state": {
      "_dom_classes": [],
      "_model_module": "@jupyter-widgets/controls",
      "_model_module_version": "1.5.0",
      "_model_name": "HTMLModel",
      "_view_count": null,
      "_view_module": "@jupyter-widgets/controls",
      "_view_module_version": "1.5.0",
      "_view_name": "HTMLView",
      "description": "",
      "description_tooltip": null,
      "layout": "IPY_MODEL_2464cc15bccb4cbd8ed52e6ffa77c460",
      "placeholder": "​",
      "style": "IPY_MODEL_cddcf84dc55f47d4a26be5caebd0a958",
      "value": " [100%]   00:00 -&gt; (00:00 left)"
     }
    },
    "c3622155ce79496fb1877a2eff7c2fda": {
     "model_module": "@jupyter-widgets/controls",
     "model_module_version": "1.5.0",
     "model_name": "HBoxModel",
     "state": {
      "_dom_classes": [],
      "_model_module": "@jupyter-widgets/controls",
      "_model_module_version": "1.5.0",
      "_model_name": "HBoxModel",
      "_view_count": null,
      "_view_module": "@jupyter-widgets/controls",
      "_view_module_version": "1.5.0",
      "_view_name": "HBoxView",
      "box_style": "",
      "children": [
       "IPY_MODEL_0b2455c78bf84c308727c947862279a0",
       "IPY_MODEL_308fb62995904595a031bcab3cbe2718",
       "IPY_MODEL_b42e92b6f2f948e2b53818c4586f0762"
      ],
      "layout": "IPY_MODEL_93c69ba7e0b6429abb02ca580c2d53eb"
     }
    },
    "cddcf84dc55f47d4a26be5caebd0a958": {
     "model_module": "@jupyter-widgets/controls",
     "model_module_version": "1.5.0",
     "model_name": "DescriptionStyleModel",
     "state": {
      "_model_module": "@jupyter-widgets/controls",
      "_model_module_version": "1.5.0",
      "_model_name": "DescriptionStyleModel",
      "_view_count": null,
      "_view_module": "@jupyter-widgets/base",
      "_view_module_version": "1.2.0",
      "_view_name": "StyleView",
      "description_width": ""
     }
    },
    "e333fd41aadc471fa8dc26094728617c": {
     "model_module": "@jupyter-widgets/base",
     "model_module_version": "1.2.0",
     "model_name": "LayoutModel",
     "state": {
      "_model_module": "@jupyter-widgets/base",
      "_model_module_version": "1.2.0",
      "_model_name": "LayoutModel",
      "_view_count": null,
      "_view_module": "@jupyter-widgets/base",
      "_view_module_version": "1.2.0",
      "_view_name": "LayoutView",
      "align_content": null,
      "align_items": null,
      "align_self": null,
      "border": null,
      "bottom": null,
      "display": null,
      "flex": null,
      "flex_flow": null,
      "grid_area": null,
      "grid_auto_columns": null,
      "grid_auto_flow": null,
      "grid_auto_rows": null,
      "grid_column": null,
      "grid_gap": null,
      "grid_row": null,
      "grid_template_areas": null,
      "grid_template_columns": null,
      "grid_template_rows": null,
      "height": null,
      "justify_content": null,
      "justify_items": null,
      "left": null,
      "margin": null,
      "max_height": null,
      "max_width": null,
      "min_height": null,
      "min_width": null,
      "object_fit": null,
      "object_position": null,
      "order": null,
      "overflow": null,
      "overflow_x": null,
      "overflow_y": null,
      "padding": null,
      "right": null,
      "top": null,
      "visibility": null,
      "width": null
     }
    },
    "ed7512edf45d40ae8fdfd13318a1b57c": {
     "model_module": "@jupyter-widgets/base",
     "model_module_version": "1.2.0",
     "model_name": "LayoutModel",
     "state": {
      "_model_module": "@jupyter-widgets/base",
      "_model_module_version": "1.2.0",
      "_model_name": "LayoutModel",
      "_view_count": null,
      "_view_module": "@jupyter-widgets/base",
      "_view_module_version": "1.2.0",
      "_view_name": "LayoutView",
      "align_content": null,
      "align_items": null,
      "align_self": null,
      "border": null,
      "bottom": null,
      "display": null,
      "flex": null,
      "flex_flow": null,
      "grid_area": null,
      "grid_auto_columns": null,
      "grid_auto_flow": null,
      "grid_auto_rows": null,
      "grid_column": null,
      "grid_gap": null,
      "grid_row": null,
      "grid_template_areas": null,
      "grid_template_columns": null,
      "grid_template_rows": null,
      "height": null,
      "justify_content": null,
      "justify_items": null,
      "left": null,
      "margin": null,
      "max_height": null,
      "max_width": null,
      "min_height": null,
      "min_width": null,
      "object_fit": null,
      "object_position": null,
      "order": null,
      "overflow": null,
      "overflow_x": null,
      "overflow_y": null,
      "padding": null,
      "right": null,
      "top": null,
      "visibility": null,
      "width": null
     }
    },
    "f2a25df7eb1b4a4685a37310f1fe114b": {
     "model_module": "@jupyter-widgets/controls",
     "model_module_version": "1.5.0",
     "model_name": "DescriptionStyleModel",
     "state": {
      "_model_module": "@jupyter-widgets/controls",
      "_model_module_version": "1.5.0",
      "_model_name": "DescriptionStyleModel",
      "_view_count": null,
      "_view_module": "@jupyter-widgets/base",
      "_view_module_version": "1.2.0",
      "_view_name": "StyleView",
      "description_width": ""
     }
    },
    "f813f9e4effe41ad9b3c83fc60757f70": {
     "model_module": "@jupyter-widgets/controls",
     "model_module_version": "1.5.0",
     "model_name": "DescriptionStyleModel",
     "state": {
      "_model_module": "@jupyter-widgets/controls",
      "_model_module_version": "1.5.0",
      "_model_name": "DescriptionStyleModel",
      "_view_count": null,
      "_view_module": "@jupyter-widgets/base",
      "_view_module_version": "1.2.0",
      "_view_name": "StyleView",
      "description_width": ""
     }
    }
   }
  }
 },
 "nbformat": 4,
 "nbformat_minor": 1
}
