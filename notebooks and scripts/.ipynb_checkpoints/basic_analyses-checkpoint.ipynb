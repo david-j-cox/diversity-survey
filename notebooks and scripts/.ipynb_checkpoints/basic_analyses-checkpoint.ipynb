{
 "cells": [
  {
   "cell_type": "markdown",
   "metadata": {
    "colab_type": "text",
    "id": "view-in-github"
   },
   "source": [
    "<a href=\"https://colab.research.google.com/github/david-j-cox/twitter-higher-ed/blob/main/basic_analyses.ipynb\" target=\"_parent\"><img src=\"https://colab.research.google.com/assets/colab-badge.svg\" alt=\"Open In Colab\"/></a>"
   ]
  },
  {
   "cell_type": "markdown",
   "metadata": {
    "id": "tQqFbRvHJxzx"
   },
   "source": [
    "# Packages and modules"
   ]
  },
  {
   "cell_type": "markdown",
   "metadata": {},
   "source": [
    "Coding is sped up by using code and algorithms that others have already written so we don't have to reinvent the wheel. This next box imports some of the pre-existing we'll use. "
   ]
  },
  {
   "cell_type": "code",
   "execution_count": 2,
   "metadata": {
    "colab": {
     "base_uri": "https://localhost:8080/"
    },
    "id": "tAZ0a-DuTTYZ",
    "outputId": "1031e0c2-4755-4049-eed4-b73225223b1d"
   },
   "outputs": [],
   "source": [
    "# Packages for path management\n",
    "import os\n",
    "\n",
    "# Packages for manipulating data\n",
    "import numpy as np\n",
    "from numpy import std, mean, sqrt\n",
    "import pandas as pd\n",
    "\n",
    "# Packages for visualizing data\n",
    "import seaborn as sns \n",
    "import matplotlib.pyplot as plt\n",
    "try:\n",
    "  import sweetviz as sv\n",
    "except:\n",
    "    !pip install sweetviz\n",
    "    import sweetviz as sv\n",
    "\n",
    "# Packages for statistics and modeling\n",
    "from scipy import stats\n",
    "try:\n",
    "  from vaderSentiment.vaderSentiment import SentimentIntensityAnalyzer\n",
    "except:\n",
    "  !pip install vaderSentiment"
   ]
  },
  {
   "cell_type": "markdown",
   "metadata": {
    "id": "63g_OloDj7ub"
   },
   "source": [
    "# Read in raw data set"
   ]
  },
  {
   "cell_type": "code",
   "execution_count": 3,
   "metadata": {
    "colab": {
     "base_uri": "https://localhost:8080/"
    },
    "id": "nsWAMrAMUMZa",
    "outputId": "13a2ab9f-b0ef-4fac-909e-30ffc953f5ab"
   },
   "outputs": [],
   "source": [
    "# Set the working directory to the corresponding repository\n",
    "directory = '/Users/davidjcox/Dropbox (Personal)/Projects/Manuscripts In Progress/Empirical/Endicott Data/diversity-survey/'\n",
    "os.chdir(directory)\n",
    "\n",
    "# Read in data and make a copy so we don't accidentally damage the raw file\n",
    "raw_data = pd.read_csv('./data/01_raw/raw_data.csv')\n",
    "data = raw_data.copy()"
   ]
  },
  {
   "cell_type": "code",
   "execution_count": 9,
   "metadata": {},
   "outputs": [
    {
     "data": {
      "text/html": [
       "<div>\n",
       "<style scoped>\n",
       "    .dataframe tbody tr th:only-of-type {\n",
       "        vertical-align: middle;\n",
       "    }\n",
       "\n",
       "    .dataframe tbody tr th {\n",
       "        vertical-align: top;\n",
       "    }\n",
       "\n",
       "    .dataframe thead th {\n",
       "        text-align: right;\n",
       "    }\n",
       "</style>\n",
       "<table border=\"1\" class=\"dataframe\">\n",
       "  <thead>\n",
       "    <tr style=\"text-align: right;\">\n",
       "      <th></th>\n",
       "      <th>Time</th>\n",
       "      <th>Consent</th>\n",
       "      <th>Q1 of 20. What is your age?</th>\n",
       "      <th>Q2 of 20. With which gender do you identify?</th>\n",
       "      <th>Q3 of 20. What pronouns do you prefer?</th>\n",
       "      <th>Q4 of 20. With which ethnicity/race do you identify? Please list all that apply.</th>\n",
       "      <th>Q5 of 20. With which religion do you identify? Please list all that apply, including if you do not identify with a religion.</th>\n",
       "      <th>Q6 of 20. With which political affiliation do you identify?</th>\n",
       "      <th>Q7 of 20. What is the highest level of education you have completed? (If currently enrolled, please select highest degree received):</th>\n",
       "      <th>Please specify other terminal degree</th>\n",
       "      <th>...</th>\n",
       "      <th>Q18 of 20. Please rate your familiarity with the following terms: (Judaism)</th>\n",
       "      <th>Q18 of 20. Please rate your familiarity with the following terms: (No religion (Atheist))</th>\n",
       "      <th>Q18 of 20. Please rate your familiarity with the following terms: (Paganism)</th>\n",
       "      <th>Q18 of 20. Please rate your familiarity with the following terms: (Wiccan)</th>\n",
       "      <th>Q19 of 20. What actionable items do you recommend we take as a field to increase diversity?</th>\n",
       "      <th>Q20 of 20. Please include any comments or feedback on how the demographic section of this survey can be improved to meet its goal of inclusivity and diversity.</th>\n",
       "      <th>Browser</th>\n",
       "      <th>IP Address</th>\n",
       "      <th>Unique ID</th>\n",
       "      <th>Location</th>\n",
       "    </tr>\n",
       "  </thead>\n",
       "  <tbody>\n",
       "    <tr>\n",
       "      <th>0</th>\n",
       "      <td>10/21/20 12:30</td>\n",
       "      <td>Yes, I am at least 18 years of age, am a stude...</td>\n",
       "      <td>46-60</td>\n",
       "      <td>Male</td>\n",
       "      <td>He/him/his</td>\n",
       "      <td>Jewish</td>\n",
       "      <td>None</td>\n",
       "      <td>Libertarian</td>\n",
       "      <td>Doctoral degree</td>\n",
       "      <td>NaN</td>\n",
       "      <td>...</td>\n",
       "      <td>Very familiar</td>\n",
       "      <td>Very familiar</td>\n",
       "      <td>Very familiar</td>\n",
       "      <td>Very familiar</td>\n",
       "      <td>None, treat everyone as an individual and not ...</td>\n",
       "      <td>NaN</td>\n",
       "      <td>Chrome 86.0.4240.75 / Windows</td>\n",
       "      <td>100.12.9.146</td>\n",
       "      <td>682348249</td>\n",
       "      <td>40.620098114014, -73.751899719238</td>\n",
       "    </tr>\n",
       "    <tr>\n",
       "      <th>100</th>\n",
       "      <td>10/28/20 12:27</td>\n",
       "      <td>Yes, I am at least 18 years of age, am a stude...</td>\n",
       "      <td>31-45</td>\n",
       "      <td>male</td>\n",
       "      <td>He/him/his</td>\n",
       "      <td>White</td>\n",
       "      <td>None</td>\n",
       "      <td>Democratic Socialist/Democratic Party</td>\n",
       "      <td>Master's degree</td>\n",
       "      <td>NaN</td>\n",
       "      <td>...</td>\n",
       "      <td>Very familiar</td>\n",
       "      <td>Very familiar</td>\n",
       "      <td>Somewhat familiar</td>\n",
       "      <td>Somewhat familiar</td>\n",
       "      <td>Invest  in recruiting  marginalized population...</td>\n",
       "      <td>NaN</td>\n",
       "      <td>Safari 13.1.2 / OS X</td>\n",
       "      <td>74.85.93.162</td>\n",
       "      <td>688774433</td>\n",
       "      <td>47.614498138428, -122.34799957275</td>\n",
       "    </tr>\n",
       "    <tr>\n",
       "      <th>200</th>\n",
       "      <td>3/9/21 17:30</td>\n",
       "      <td>Yes, I am at least 18 years of age, am a stude...</td>\n",
       "      <td>31-45</td>\n",
       "      <td>Male</td>\n",
       "      <td>He/him/his</td>\n",
       "      <td>Caucasion</td>\n",
       "      <td>I do not identify with a religion or any spiri...</td>\n",
       "      <td>Democrat/moderate liberal</td>\n",
       "      <td>Bachelor's degree</td>\n",
       "      <td>NaN</td>\n",
       "      <td>...</td>\n",
       "      <td>Somewhat familiar</td>\n",
       "      <td>Very familiar</td>\n",
       "      <td>Very familiar</td>\n",
       "      <td>Somewhat unfamiliar</td>\n",
       "      <td>I think the field of ABA is new enough that ma...</td>\n",
       "      <td>NaN</td>\n",
       "      <td>Chrome 88.0.4324.182 / Windows</td>\n",
       "      <td>205.118.194.18</td>\n",
       "      <td>776160429</td>\n",
       "      <td>40.498199462891, -111.84359741211</td>\n",
       "    </tr>\n",
       "    <tr>\n",
       "      <th>300</th>\n",
       "      <td>3/9/21 23:45</td>\n",
       "      <td>Yes, I am at least 18 years of age, am a stude...</td>\n",
       "      <td>18-30</td>\n",
       "      <td>Female</td>\n",
       "      <td>She/her/hers</td>\n",
       "      <td>Mixed White and Black Caribbean</td>\n",
       "      <td>None</td>\n",
       "      <td>UK - left wing Green Party/labour</td>\n",
       "      <td>Master's degree</td>\n",
       "      <td>NaN</td>\n",
       "      <td>...</td>\n",
       "      <td>Very familiar</td>\n",
       "      <td>Very familiar</td>\n",
       "      <td>Somewhat familiar</td>\n",
       "      <td>Somewhat familiar</td>\n",
       "      <td>Ensure that everyone gets 'a seat at the table...</td>\n",
       "      <td>It was great that fields were left open so I c...</td>\n",
       "      <td>Mobile Safari 12.1.2 / iOS</td>\n",
       "      <td>94.204.111.63</td>\n",
       "      <td>776275507</td>\n",
       "      <td>24, 54</td>\n",
       "    </tr>\n",
       "    <tr>\n",
       "      <th>400</th>\n",
       "      <td>3/20/21 19:01</td>\n",
       "      <td>Yes, I am at least 18 years of age, am a stude...</td>\n",
       "      <td>31-45</td>\n",
       "      <td>Female</td>\n",
       "      <td>She/her/hers</td>\n",
       "      <td>White</td>\n",
       "      <td>None</td>\n",
       "      <td>Independent</td>\n",
       "      <td>Master's degree</td>\n",
       "      <td>NaN</td>\n",
       "      <td>...</td>\n",
       "      <td>Very familiar</td>\n",
       "      <td>Very familiar</td>\n",
       "      <td>Very familiar</td>\n",
       "      <td>Very familiar</td>\n",
       "      <td>Looking at socioeconomic background and making...</td>\n",
       "      <td>NaN</td>\n",
       "      <td>Mobile Safari 14.0.3 / iOS</td>\n",
       "      <td>69.207.101.121</td>\n",
       "      <td>781294861</td>\n",
       "      <td>43.224601745605, -77.592002868652</td>\n",
       "    </tr>\n",
       "  </tbody>\n",
       "</table>\n",
       "<p>5 rows × 53 columns</p>\n",
       "</div>"
      ],
      "text/plain": [
       "               Time                                            Consent  \\\n",
       "0    10/21/20 12:30  Yes, I am at least 18 years of age, am a stude...   \n",
       "100  10/28/20 12:27  Yes, I am at least 18 years of age, am a stude...   \n",
       "200    3/9/21 17:30  Yes, I am at least 18 years of age, am a stude...   \n",
       "300    3/9/21 23:45  Yes, I am at least 18 years of age, am a stude...   \n",
       "400   3/20/21 19:01  Yes, I am at least 18 years of age, am a stude...   \n",
       "\n",
       "    Q1 of 20. What is your age? Q2 of 20. With which gender do you identify?  \\\n",
       "0                         46-60                                         Male   \n",
       "100                       31-45                                         male   \n",
       "200                       31-45                                         Male   \n",
       "300                       18-30                                       Female   \n",
       "400                       31-45                                      Female    \n",
       "\n",
       "    Q3 of 20. What pronouns do you prefer?  \\\n",
       "0                               He/him/his   \n",
       "100                             He/him/his   \n",
       "200                             He/him/his   \n",
       "300                           She/her/hers   \n",
       "400                           She/her/hers   \n",
       "\n",
       "    Q4 of 20. With which ethnicity/race do you identify? Please list all that apply.  \\\n",
       "0                                               Jewish                                 \n",
       "100                                              White                                 \n",
       "200                                         Caucasion                                  \n",
       "300                   Mixed White and Black Caribbean                                  \n",
       "400                                              White                                 \n",
       "\n",
       "    Q5 of 20. With which religion do you identify? Please list all that apply, including if you do not identify with a religion.   \\\n",
       "0                                                 None                                                                              \n",
       "100                                               None                                                                              \n",
       "200  I do not identify with a religion or any spiri...                                                                              \n",
       "300                                               None                                                                              \n",
       "400                                              None                                                                               \n",
       "\n",
       "    Q6 of 20. With which political affiliation do you identify?  \\\n",
       "0                                          Libertarian            \n",
       "100              Democratic Socialist/Democratic Party            \n",
       "200                         Democrat/moderate liberal             \n",
       "300                  UK - left wing Green Party/labour            \n",
       "400                                       Independent             \n",
       "\n",
       "    Q7 of 20. What is the highest level of education you have completed? (If currently enrolled, please select highest degree received):  \\\n",
       "0                                      Doctoral degree                                                                                     \n",
       "100                                    Master's degree                                                                                     \n",
       "200                                  Bachelor's degree                                                                                     \n",
       "300                                    Master's degree                                                                                     \n",
       "400                                    Master's degree                                                                                     \n",
       "\n",
       "    Please specify other terminal degree  ...  \\\n",
       "0                                    NaN  ...   \n",
       "100                                  NaN  ...   \n",
       "200                                  NaN  ...   \n",
       "300                                  NaN  ...   \n",
       "400                                  NaN  ...   \n",
       "\n",
       "    Q18 of 20. Please rate your familiarity with the following terms: (Judaism)  \\\n",
       "0                                        Very familiar                            \n",
       "100                                      Very familiar                            \n",
       "200                                  Somewhat familiar                            \n",
       "300                                      Very familiar                            \n",
       "400                                      Very familiar                            \n",
       "\n",
       "    Q18 of 20. Please rate your familiarity with the following terms: (No religion (Atheist))  \\\n",
       "0                                        Very familiar                                          \n",
       "100                                      Very familiar                                          \n",
       "200                                      Very familiar                                          \n",
       "300                                      Very familiar                                          \n",
       "400                                      Very familiar                                          \n",
       "\n",
       "    Q18 of 20. Please rate your familiarity with the following terms: (Paganism)  \\\n",
       "0                                        Very familiar                             \n",
       "100                                  Somewhat familiar                             \n",
       "200                                      Very familiar                             \n",
       "300                                  Somewhat familiar                             \n",
       "400                                      Very familiar                             \n",
       "\n",
       "    Q18 of 20. Please rate your familiarity with the following terms: (Wiccan)  \\\n",
       "0                                        Very familiar                           \n",
       "100                                  Somewhat familiar                           \n",
       "200                                Somewhat unfamiliar                           \n",
       "300                                  Somewhat familiar                           \n",
       "400                                      Very familiar                           \n",
       "\n",
       "    Q19 of 20. What actionable items do you recommend we take as a field to increase diversity?  \\\n",
       "0    None, treat everyone as an individual and not ...                                            \n",
       "100  Invest  in recruiting  marginalized population...                                            \n",
       "200  I think the field of ABA is new enough that ma...                                            \n",
       "300  Ensure that everyone gets 'a seat at the table...                                            \n",
       "400  Looking at socioeconomic background and making...                                            \n",
       "\n",
       "    Q20 of 20. Please include any comments or feedback on how the demographic section of this survey can be improved to meet its goal of inclusivity and diversity.  \\\n",
       "0                                                  NaN                                                                                                                \n",
       "100                                                NaN                                                                                                                \n",
       "200                                                NaN                                                                                                                \n",
       "300  It was great that fields were left open so I c...                                                                                                                \n",
       "400                                                NaN                                                                                                                \n",
       "\n",
       "                            Browser      IP Address  Unique ID  \\\n",
       "0     Chrome 86.0.4240.75 / Windows    100.12.9.146  682348249   \n",
       "100            Safari 13.1.2 / OS X    74.85.93.162  688774433   \n",
       "200  Chrome 88.0.4324.182 / Windows  205.118.194.18  776160429   \n",
       "300      Mobile Safari 12.1.2 / iOS   94.204.111.63  776275507   \n",
       "400      Mobile Safari 14.0.3 / iOS  69.207.101.121  781294861   \n",
       "\n",
       "                              Location  \n",
       "0    40.620098114014, -73.751899719238  \n",
       "100  47.614498138428, -122.34799957275  \n",
       "200  40.498199462891, -111.84359741211  \n",
       "300                             24, 54  \n",
       "400  43.224601745605, -77.592002868652  \n",
       "\n",
       "[5 rows x 53 columns]"
      ]
     },
     "execution_count": 9,
     "metadata": {},
     "output_type": "execute_result"
    }
   ],
   "source": [
    "# Take a quick peek at every 100th row of the dataframe to make sure nothing looks off\n",
    "data[::100]"
   ]
  },
  {
   "cell_type": "markdown",
   "metadata": {},
   "source": [
    "## When programming, we often have to specify the column we're interested in looking at. The current column headers are very wordy. We'll rename the column headers to make them easier to work with. "
   ]
  },
  {
   "cell_type": "code",
   "execution_count": 10,
   "metadata": {},
   "outputs": [
    {
     "data": {
      "text/plain": [
       "['Time',\n",
       " 'Consent',\n",
       " 'Q1 of 20. What is your age?',\n",
       " 'Q2 of 20. With which gender do you identify?',\n",
       " 'Q3 of 20. What pronouns do you prefer?',\n",
       " 'Q4 of 20. With which ethnicity/race do you identify? Please list all that apply.',\n",
       " 'Q5 of 20. With which religion do you identify? Please list all that apply, including if you do not identify with a religion. ',\n",
       " 'Q6 of 20. With which political affiliation do you identify?',\n",
       " 'Q7 of 20. What is the highest level of education you have completed? (If currently enrolled, please select highest degree received):',\n",
       " 'Please specify other terminal degree',\n",
       " 'Q8 of 20. What is your annual household income?',\n",
       " 'Q9 of 20. Do you identify as having a disability?',\n",
       " 'If yes and you feel comfortable sharing, please specify:',\n",
       " 'Q10 of 20. Please select applicable certification and/or licenses (select all that apply):',\n",
       " 'Q11 of 20. How long have you identified as being in the field of behavior analysis?',\n",
       " 'Q12 of 20. How long have you been certified and/or licensed in the field of behavior analysis (calculated from the first certification or licensed received)?',\n",
       " 'Q13 of 20. In which country or countries do you reside? (Please select/list all that apply.)',\n",
       " 'Please specify province(s):',\n",
       " 'Please specify state(s):',\n",
       " 'Q14 of 20. If you are a practicing behavior analyst, in which country or countries do you practice? (select all that apply)',\n",
       " 'Please specify province(s):.1',\n",
       " 'Please specify state(s):.1',\n",
       " 'Q15 of 20. Please define \"diversity\":',\n",
       " 'Q16 of 20. Please rate your familiarity with the following terms: (Cisgender female)',\n",
       " 'Q16 of 20. Please rate your familiarity with the following terms: (Cisgender male)',\n",
       " 'Q16 of 20. Please rate your familiarity with the following terms: (Transgender female)',\n",
       " 'Q16 of 20. Please rate your familiarity with the following terms: (Transgender male)',\n",
       " 'Q16 of 20. Please rate your familiarity with the following terms: (Non-binary)',\n",
       " 'Q16 of 20. Please rate your familiarity with the following terms: (Gender fluid)',\n",
       " 'Q16 of 20. Please rate your familiarity with the following terms: (Gender neutral)',\n",
       " 'Q17 of 20. Please rate your familiarity with the following terms:  (Asian)',\n",
       " 'Q17 of 20. Please rate your familiarity with the following terms:  (Black/African)',\n",
       " 'Q17 of 20. Please rate your familiarity with the following terms:  (White)',\n",
       " 'Q17 of 20. Please rate your familiarity with the following terms:  (Hispanic/Latinx)',\n",
       " 'Q17 of 20. Please rate your familiarity with the following terms:  (Native American)',\n",
       " 'Q17 of 20. Please rate your familiarity with the following terms:  (Pacific Islander)',\n",
       " 'Q18 of 20. Please rate your familiarity with the following terms: (Agnostic)',\n",
       " 'Q18 of 20. Please rate your familiarity with the following terms: (Amish)',\n",
       " 'Q18 of 20. Please rate your familiarity with the following terms: (Buddhism)',\n",
       " 'Q18 of 20. Please rate your familiarity with the following terms: (Christianity)',\n",
       " 'Q18 of 20. Please rate your familiarity with the following terms: (Hinduism)',\n",
       " 'Q18 of 20. Please rate your familiarity with the following terms: (Islam)',\n",
       " \"Q18 of 20. Please rate your familiarity with the following terms: (Jehovah's Witness)\",\n",
       " 'Q18 of 20. Please rate your familiarity with the following terms: (Judaism)',\n",
       " 'Q18 of 20. Please rate your familiarity with the following terms: (No religion (Atheist))',\n",
       " 'Q18 of 20. Please rate your familiarity with the following terms: (Paganism)',\n",
       " 'Q18 of 20. Please rate your familiarity with the following terms: (Wiccan)',\n",
       " 'Q19 of 20. What actionable items do you recommend we take as a field to increase diversity?',\n",
       " 'Q20 of 20. Please include any comments or feedback on how the demographic section of this survey can be improved to meet its goal of inclusivity and diversity.',\n",
       " 'Browser',\n",
       " 'IP Address',\n",
       " 'Unique ID',\n",
       " 'Location']"
      ]
     },
     "execution_count": 10,
     "metadata": {},
     "output_type": "execute_result"
    }
   ],
   "source": [
    "# Take a look at the existing column headers\n",
    "list(data)"
   ]
  },
  {
   "cell_type": "code",
   "execution_count": 11,
   "metadata": {},
   "outputs": [
    {
     "ename": "ValueError",
     "evalue": "Length mismatch: Expected axis has 53 elements, new values have 50 elements",
     "output_type": "error",
     "traceback": [
      "\u001b[0;31m---------------------------------------------------------------------------\u001b[0m",
      "\u001b[0;31mValueError\u001b[0m                                Traceback (most recent call last)",
      "\u001b[0;32m<ipython-input-11-1e544254facb>\u001b[0m in \u001b[0;36m<module>\u001b[0;34m\u001b[0m\n\u001b[1;32m      1\u001b[0m \u001b[0;31m# Use that text to create shorthand labels\u001b[0m\u001b[0;34m\u001b[0m\u001b[0;34m\u001b[0m\u001b[0;34m\u001b[0m\u001b[0m\n\u001b[0;32m----> 2\u001b[0;31m data.columns = ['time', \n\u001b[0m\u001b[1;32m      3\u001b[0m                \u001b[0;34m'consent'\u001b[0m\u001b[0;34m,\u001b[0m\u001b[0;34m\u001b[0m\u001b[0;34m\u001b[0m\u001b[0m\n\u001b[1;32m      4\u001b[0m                \u001b[0;34m'age'\u001b[0m\u001b[0;34m,\u001b[0m\u001b[0;34m\u001b[0m\u001b[0;34m\u001b[0m\u001b[0m\n\u001b[1;32m      5\u001b[0m                \u001b[0;34m'gender'\u001b[0m\u001b[0;34m,\u001b[0m\u001b[0;34m\u001b[0m\u001b[0;34m\u001b[0m\u001b[0m\n",
      "\u001b[0;32m/usr/local/anaconda3/lib/python3.8/site-packages/pandas/core/generic.py\u001b[0m in \u001b[0;36m__setattr__\u001b[0;34m(self, name, value)\u001b[0m\n\u001b[1;32m   5476\u001b[0m         \u001b[0;32mtry\u001b[0m\u001b[0;34m:\u001b[0m\u001b[0;34m\u001b[0m\u001b[0;34m\u001b[0m\u001b[0m\n\u001b[1;32m   5477\u001b[0m             \u001b[0mobject\u001b[0m\u001b[0;34m.\u001b[0m\u001b[0m__getattribute__\u001b[0m\u001b[0;34m(\u001b[0m\u001b[0mself\u001b[0m\u001b[0;34m,\u001b[0m \u001b[0mname\u001b[0m\u001b[0;34m)\u001b[0m\u001b[0;34m\u001b[0m\u001b[0;34m\u001b[0m\u001b[0m\n\u001b[0;32m-> 5478\u001b[0;31m             \u001b[0;32mreturn\u001b[0m \u001b[0mobject\u001b[0m\u001b[0;34m.\u001b[0m\u001b[0m__setattr__\u001b[0m\u001b[0;34m(\u001b[0m\u001b[0mself\u001b[0m\u001b[0;34m,\u001b[0m \u001b[0mname\u001b[0m\u001b[0;34m,\u001b[0m \u001b[0mvalue\u001b[0m\u001b[0;34m)\u001b[0m\u001b[0;34m\u001b[0m\u001b[0;34m\u001b[0m\u001b[0m\n\u001b[0m\u001b[1;32m   5479\u001b[0m         \u001b[0;32mexcept\u001b[0m \u001b[0mAttributeError\u001b[0m\u001b[0;34m:\u001b[0m\u001b[0;34m\u001b[0m\u001b[0;34m\u001b[0m\u001b[0m\n\u001b[1;32m   5480\u001b[0m             \u001b[0;32mpass\u001b[0m\u001b[0;34m\u001b[0m\u001b[0;34m\u001b[0m\u001b[0m\n",
      "\u001b[0;32mpandas/_libs/properties.pyx\u001b[0m in \u001b[0;36mpandas._libs.properties.AxisProperty.__set__\u001b[0;34m()\u001b[0m\n",
      "\u001b[0;32m/usr/local/anaconda3/lib/python3.8/site-packages/pandas/core/generic.py\u001b[0m in \u001b[0;36m_set_axis\u001b[0;34m(self, axis, labels)\u001b[0m\n\u001b[1;32m    668\u001b[0m     \u001b[0;32mdef\u001b[0m \u001b[0m_set_axis\u001b[0m\u001b[0;34m(\u001b[0m\u001b[0mself\u001b[0m\u001b[0;34m,\u001b[0m \u001b[0maxis\u001b[0m\u001b[0;34m:\u001b[0m \u001b[0mint\u001b[0m\u001b[0;34m,\u001b[0m \u001b[0mlabels\u001b[0m\u001b[0;34m:\u001b[0m \u001b[0mIndex\u001b[0m\u001b[0;34m)\u001b[0m \u001b[0;34m->\u001b[0m \u001b[0;32mNone\u001b[0m\u001b[0;34m:\u001b[0m\u001b[0;34m\u001b[0m\u001b[0;34m\u001b[0m\u001b[0m\n\u001b[1;32m    669\u001b[0m         \u001b[0mlabels\u001b[0m \u001b[0;34m=\u001b[0m \u001b[0mensure_index\u001b[0m\u001b[0;34m(\u001b[0m\u001b[0mlabels\u001b[0m\u001b[0;34m)\u001b[0m\u001b[0;34m\u001b[0m\u001b[0;34m\u001b[0m\u001b[0m\n\u001b[0;32m--> 670\u001b[0;31m         \u001b[0mself\u001b[0m\u001b[0;34m.\u001b[0m\u001b[0m_mgr\u001b[0m\u001b[0;34m.\u001b[0m\u001b[0mset_axis\u001b[0m\u001b[0;34m(\u001b[0m\u001b[0maxis\u001b[0m\u001b[0;34m,\u001b[0m \u001b[0mlabels\u001b[0m\u001b[0;34m)\u001b[0m\u001b[0;34m\u001b[0m\u001b[0;34m\u001b[0m\u001b[0m\n\u001b[0m\u001b[1;32m    671\u001b[0m         \u001b[0mself\u001b[0m\u001b[0;34m.\u001b[0m\u001b[0m_clear_item_cache\u001b[0m\u001b[0;34m(\u001b[0m\u001b[0;34m)\u001b[0m\u001b[0;34m\u001b[0m\u001b[0;34m\u001b[0m\u001b[0m\n\u001b[1;32m    672\u001b[0m \u001b[0;34m\u001b[0m\u001b[0m\n",
      "\u001b[0;32m/usr/local/anaconda3/lib/python3.8/site-packages/pandas/core/internals/managers.py\u001b[0m in \u001b[0;36mset_axis\u001b[0;34m(self, axis, new_labels)\u001b[0m\n\u001b[1;32m    218\u001b[0m \u001b[0;34m\u001b[0m\u001b[0m\n\u001b[1;32m    219\u001b[0m         \u001b[0;32mif\u001b[0m \u001b[0mnew_len\u001b[0m \u001b[0;34m!=\u001b[0m \u001b[0mold_len\u001b[0m\u001b[0;34m:\u001b[0m\u001b[0;34m\u001b[0m\u001b[0;34m\u001b[0m\u001b[0m\n\u001b[0;32m--> 220\u001b[0;31m             raise ValueError(\n\u001b[0m\u001b[1;32m    221\u001b[0m                 \u001b[0;34mf\"Length mismatch: Expected axis has {old_len} elements, new \"\u001b[0m\u001b[0;34m\u001b[0m\u001b[0;34m\u001b[0m\u001b[0m\n\u001b[1;32m    222\u001b[0m                 \u001b[0;34mf\"values have {new_len} elements\"\u001b[0m\u001b[0;34m\u001b[0m\u001b[0;34m\u001b[0m\u001b[0m\n",
      "\u001b[0;31mValueError\u001b[0m: Length mismatch: Expected axis has 53 elements, new values have 50 elements"
     ]
    }
   ],
   "source": [
    "# Use that text to create shorthand labels\n",
    "data.columns = []'time', \n",
    "               'consent', \n",
    "               'age', \n",
    "               'gender', \n",
    "               'pronouns', \n",
    "               'ethnicity', \n",
    "               'religion', \n",
    "               'political_affil', \n",
    "               'education', \n",
    "               'degree_name', \n",
    "               'income', \n",
    "               'disability', \n",
    "               'disability_name', \n",
    "               'cert_license', \n",
    "               'time_in_bx_anal', \n",
    "               'time_cert_license', \n",
    "               'country_live', \n",
    "               'province', \n",
    "               'state', \n",
    "               'define_diversity', \n",
    "               'familiar_cis_fem', \n",
    "               'familiar_cis_male', \n",
    "               'familiar_trans_fem', \n",
    "               'familiar_trans_male', \n",
    "               'familiar_non_binary', \n",
    "               'familiar_gender_fluid', \n",
    "               'familiar_gender_neutral', \n",
    "               'familiar_asian', \n",
    "               'familiar_black', \n",
    "               'familiar_white', \n",
    "               'familiar_latinx', \n",
    "               'familiar_nat_amer', \n",
    "               'familiar_pac_isl', \n",
    "               'familiar_agnostic', \n",
    "               'familiar_amish', \n",
    "               'familiar_buddhism', \n",
    "               'familiar_christian', \n",
    "               'familiar_hinduism', \n",
    "               'familiar_islam', \n",
    "               'familiar_jehovah', \n",
    "               'familiar_judaism', \n",
    "               'familiar_atheist', \n",
    "               'familiar_paganism', \n",
    "               'familiar_wiccan', \n",
    "               'actions_recommend', \n",
    "               'survey_feedback', \n",
    "               'browser',\n",
    "               'ip_address',\n",
    "               'unique_id',\n",
    "               'location']"
   ]
  },
  {
   "cell_type": "code",
   "execution_count": null,
   "metadata": {
    "id": "Bv5K4HTecysK"
   },
   "outputs": [],
   "source": [
    "# Convert all the text to lowercase for string matching\n",
    "raw_data_pre['content'] = raw_data_pre['content'].str.lower()"
   ]
  },
  {
   "cell_type": "code",
   "execution_count": null,
   "metadata": {
    "id": "sAoKXL8yb472"
   },
   "outputs": [],
   "source": [
    "# Create a list of the indices containing Tweets with COVID or higher-education\n",
    "int_keep_pre = []\n",
    "\n",
    "for i in range(len(raw_data_pre)):\n",
    "  val = str(raw_data_pre['content'][i])\n",
    "  for j in hied_list:\n",
    "    if j in val:\n",
    "      if i in int_keep_pre:\n",
    "        continue\n",
    "      else:\n",
    "        int_keep_pre.append(i)\n",
    "\n",
    "int_keep_pre = pd.DataFrame(int_keep_pre)\n",
    "int_keep_pre.columns = ['index']\n",
    "int_keep_pre.to_csv('./02_intermediate/ints_pre.csv')\n",
    "print(\"raw total:\", len(raw_data_pre))\n",
    "\n",
    "# Use the list of the indices to trim the raw df\n",
    "df_pre = raw_data_pre.iloc[int_keep_pre['index']]\n",
    "print(\"subset total: \", len(df_pre))\n",
    "df_pre = df_pre.reset_index(drop=True)\n",
    "df_pre.to_csv('./02_intermediate/clean_pre.csv')"
   ]
  },
  {
   "cell_type": "code",
   "execution_count": null,
   "metadata": {
    "colab": {
     "base_uri": "https://localhost:8080/"
    },
    "id": "FyKo5AFQu18T",
    "outputId": "8d0ace44-9af8-409d-bc11-eeb2af0904af"
   },
   "outputs": [],
   "source": [
    "# Read in post-COVID tweets, drop duplicates and save\n",
    "raw_data_post = pd.read_csv('./01_raw/post_covid_learning.csv')\n",
    "print(\"Pre: \", len(raw_data_post))\n",
    "raw_data_post = raw_data_post.drop_duplicates()\n",
    "print(\"Post: \", len(raw_data_post))\n",
    "raw_data_post.to_csv('./01_raw/post_covid_learning.csv')"
   ]
  },
  {
   "cell_type": "code",
   "execution_count": null,
   "metadata": {
    "id": "9z-9Gar7SpZx"
   },
   "outputs": [],
   "source": [
    "# Convert all the text to lowercase for string matching\n",
    "raw_data_post['content'] = raw_data_post['content'].str.lower()"
   ]
  },
  {
   "cell_type": "code",
   "execution_count": null,
   "metadata": {
    "colab": {
     "base_uri": "https://localhost:8080/"
    },
    "id": "5VCG5vLDcJ2l",
    "outputId": "2d752db5-b589-4002-96fb-920c56c66817"
   },
   "outputs": [],
   "source": [
    "# Create a list of the indices containing Tweets with COVID or higher-education\n",
    "int_keep_post = []\n",
    "\n",
    "for i in range(len(raw_data_post)):\n",
    "  val = str(raw_data_post['content'][i])\n",
    "  for j in hied_list:\n",
    "    for k in cov_list:\n",
    "      if j in val:\n",
    "        if i in int_keep_post:\n",
    "          continue\n",
    "        else:\n",
    "          int_keep_post.append(i)\n",
    "      if k in val:\n",
    "        if i in int_keep_post:\n",
    "          continue\n",
    "        else:\n",
    "          int_keep_post.append(i)\n",
    "\n",
    "int_keep_post = pd.DataFrame(int_keep_post)\n",
    "int_keep_post.columns = ['index']\n",
    "int_keep_post.to_csv('./02_intermediate/ints_post.csv')\n",
    "print(\"raw total:\", len(raw_data_post))\n",
    "\n",
    "# Use the list of the indices to trim the raw df\n",
    "df_post = raw_data_post.iloc[int_keep_post['index']]\n",
    "print(\"subset total: \", len(df_post))\n",
    "df_post = df_post.reset_index(drop=True)\n",
    "df_post.to_csv('./02_intermediate/clean_post.csv')"
   ]
  },
  {
   "cell_type": "code",
   "execution_count": null,
   "metadata": {
    "id": "ssNYuHYEu4ev"
   },
   "outputs": [],
   "source": [
    "# Combine the pre and post dfs into a single dataframe\n",
    "all_data = df_pre.append(df_post)\n",
    "all_data = all_data.drop(['Unnamed: 0', 'Unnamed: 0.1'], axis=1)\n",
    "all_data = all_data.reset_index(drop=True)\n",
    "all_data.to_csv('./02_intermediate/all_data.csv')"
   ]
  },
  {
   "cell_type": "markdown",
   "metadata": {
    "id": "gBKolIo3XGaU"
   },
   "source": [
    "# Sentiment Analysis using Vader model"
   ]
  },
  {
   "cell_type": "code",
   "execution_count": null,
   "metadata": {
    "id": "UiX6gGFiXJI0"
   },
   "outputs": [],
   "source": [
    "# Add sentiment scores from Vader Model\n",
    "san = SentimentIntensityAnalyzer()\n",
    "pos = []\n",
    "neu = []\n",
    "neg = []\n",
    "compound = []\n",
    "\n",
    "for i in range(len(all_data)):\n",
    "  sent_dict = san.polarity_scores(all_data['content'][i])\n",
    "  pos.append(sent_dict.get('pos'))\n",
    "  neu.append(sent_dict.get('neu'))\n",
    "  neg.append(sent_dict.get('neg'))\n",
    "  compound.append(sent_dict.get('compound'))\n",
    "\n",
    "all_data['vader_pos'] = pos\n",
    "all_data['vader_neu'] = neu\n",
    "all_data['vader_neg'] = neg\n",
    "all_data['vader_com'] = compound"
   ]
  },
  {
   "cell_type": "code",
   "execution_count": null,
   "metadata": {
    "colab": {
     "base_uri": "https://localhost:8080/",
     "height": 606
    },
    "id": "0X10-MUSXJ6S",
    "outputId": "5b22935a-312b-4bb5-a61d-86da46d6ded3"
   },
   "outputs": [],
   "source": [
    "# Quick plots of Vader sentiment before and after\n",
    "fig, axs = plt.subplots(2, 2, figsize=(10, 10))\n",
    "sns.violinplot(x=all_data['year'], y=all_data['vader_pos'], ax=axs[0, 0], palette=\"BrBG\")\n",
    "sns.violinplot(x=all_data['year'], y=all_data['vader_neu'], ax=axs[0, 1], palette=\"BrBG\")\n",
    "sns.violinplot(x=all_data['year'], y=all_data['vader_neg'], ax=axs[1, 0], palette=\"BrBG\")\n",
    "sns.violinplot(x=all_data['year'], y=all_data['vader_com'], ax=axs[1, 1], palette=\"BrBG\")\n",
    "plt.savefig(fname='./figures/violin_vader.png', bbox_inches='tight')\n",
    "plt.show()"
   ]
  },
  {
   "cell_type": "code",
   "execution_count": null,
   "metadata": {
    "colab": {
     "base_uri": "https://localhost:8080/",
     "height": 297
    },
    "id": "EFDYTxf1emG4",
    "outputId": "1d77f563-8899-4565-f30e-b1788382dc3a"
   },
   "outputs": [],
   "source": [
    "# Descriptions of sentiment by year\n",
    "vader_desc = pd.DataFrame(all_data['vader_pos'][all_data['year']==2020].describe())\n",
    "vader_desc.columns = ['pos_2020']\n",
    "\n",
    "vader_desc['pos_2021'] = all_data['vader_pos'][all_data['year']==2021].describe()\n",
    "\n",
    "for i in ['vader_neu', 'vader_neg', 'vader_com']:\n",
    "  for year in [2020, 2021]:\n",
    "    name = i[-3:]+\"_\"+str(year)\n",
    "    vader_desc[name] = all_data[i][all_data['year']==year].describe()\n",
    "\n",
    "vader_desc.to_csv('./03_primary/vader_descriptions.csv')\n",
    "vader_desc"
   ]
  },
  {
   "cell_type": "code",
   "execution_count": null,
   "metadata": {
    "colab": {
     "base_uri": "https://localhost:8080/",
     "height": 173
    },
    "id": "Jehp4-jMXKAy",
    "outputId": "a06c01a9-318e-4172-c3ab-e5f05ffe89bb"
   },
   "outputs": [],
   "source": [
    "# Statistics on the differences\n",
    "comparison = []\n",
    "stat = []\n",
    "p_val = []\n",
    "coh_d = []\n",
    "\n",
    "for i in ['vader_pos', 'vader_neu', 'vader_neg', 'vader_com']:\n",
    "  comparison.append(i)\n",
    "  ttest = stats.ttest_ind(all_data[i][all_data['year']==2020], all_data[i][all_data['year']==2021])\n",
    "  stat.append(ttest[0])\n",
    "  p_val.append(ttest[1])\n",
    "  c0 = all_data[i][all_data['year']==2020]\n",
    "  c1 = all_data[i][all_data['year']==2021]\n",
    "  coh_d.append((mean(c0) - mean(c1)) / (sqrt((std(c0) ** 2 + std(c1) ** 2) / 2)))\n",
    "\n",
    "vader_stats = pd.DataFrame([comparison, stat, p_val, coh_d])\n",
    "vader_stats = vader_stats.transpose()\n",
    "vader_stats.columns = ['comparison', 't_stat', 'p_val', 'cohens_d']\n",
    "vader_stats.to_csv('./03_primary/vader_stats.csv')\n",
    "vader_stats"
   ]
  },
  {
   "cell_type": "markdown",
   "metadata": {
    "id": "KnO5o29qn0gN"
   },
   "source": [
    "# Sentiment Analysis using TextBlob"
   ]
  },
  {
   "cell_type": "code",
   "execution_count": null,
   "metadata": {
    "id": "zZsF12T3XKGL"
   },
   "outputs": [],
   "source": [
    "# Add sentiment scores from NB and Pattern Model\n",
    "polarity = []\n",
    "subjectivity = []\n",
    "\n",
    "for i in range(len(all_data)):\n",
    "  sent_dict = TextBlob(all_data['content'][i]).sentiment\n",
    "  polarity.append(sent_dict[0])\n",
    "  subjectivity.append(sent_dict[1])\n",
    "\n",
    "all_data['text_blob_polarity'] = polarity\n",
    "all_data['text_blob_subjectivity'] = subjectivity"
   ]
  },
  {
   "cell_type": "code",
   "execution_count": null,
   "metadata": {
    "colab": {
     "base_uri": "https://localhost:8080/",
     "height": 334
    },
    "id": "3ksATPJ2n6ad",
    "outputId": "336f7b67-8970-49ab-ad8e-0b953b653692"
   },
   "outputs": [],
   "source": [
    "# Quick plots of TextBlob sentiment before and after\n",
    "fig, axs = plt.subplots(1, 2, figsize=(10, 5))\n",
    "sns.violinplot(x=all_data['year'], y=all_data['text_blob_polarity'], ax=axs[0], palette=\"BrBG\")\n",
    "sns.violinplot(x=all_data['year'], y=all_data['text_blob_subjectivity'], ax=axs[1], palette=\"BrBG\")\n",
    "plt.savefig(fname='./figures/violin_textblob.png', bbox_inches='tight')\n",
    "plt.show()"
   ]
  },
  {
   "cell_type": "code",
   "execution_count": null,
   "metadata": {
    "colab": {
     "base_uri": "https://localhost:8080/",
     "height": 297
    },
    "id": "7KotR3SGn6hI",
    "outputId": "cb857895-3e76-47a6-bca9-c58954c37612"
   },
   "outputs": [],
   "source": [
    "# Descriptions of sentiment by year\n",
    "txblb_desc = pd.DataFrame(all_data['text_blob_polarity'][all_data['year']==2020].describe())\n",
    "txblb_desc.columns = ['txblb_polarity_2020']\n",
    "\n",
    "txblb_desc['txblb_polarity_2021'] = all_data['text_blob_polarity'][all_data['year']==2021].describe()\n",
    "txblb_desc['txblb_subjectivity_2020'] = all_data['text_blob_subjectivity'][all_data['year']==2020].describe()\n",
    "txblb_desc['txblb_subjectivity_2021'] = all_data['text_blob_subjectivity'][all_data['year']==2021].describe()\n",
    "\n",
    "txblb_desc.to_csv('./03_primary/textblob_descriptions.csv')\n",
    "txblb_desc"
   ]
  },
  {
   "cell_type": "code",
   "execution_count": null,
   "metadata": {
    "colab": {
     "base_uri": "https://localhost:8080/",
     "height": 111
    },
    "id": "eppGzg2tn6kN",
    "outputId": "c58a787f-e1ee-4236-a692-a297f6072c8b"
   },
   "outputs": [],
   "source": [
    "# Statistics on the differences\n",
    "comparison = []\n",
    "stat = []\n",
    "p_val = []\n",
    "coh_d = []\n",
    "\n",
    "for i in ['text_blob_polarity', 'text_blob_subjectivity']:\n",
    "  comparison.append(i)\n",
    "  ttest = stats.ttest_ind(all_data[i][all_data['year']==2020], all_data[i][all_data['year']==2021])\n",
    "  stat.append(ttest[0])\n",
    "  p_val.append(ttest[1])\n",
    "  c0 = all_data[i][all_data['year']==2020]\n",
    "  c1 = all_data[i][all_data['year']==2021]\n",
    "  coh_d.append((mean(c0) - mean(c1)) / (sqrt((std(c0) ** 2 + std(c1) ** 2) / 2)))\n",
    "\n",
    "txblb_stats = pd.DataFrame([comparison, stat, p_val, coh_d])\n",
    "txblb_stats = txblb_stats.transpose()\n",
    "txblb_stats.columns = ['comparison', 't_stat', 'p_val', 'cohens_d']\n",
    "txblb_stats.to_csv('./03_primary/txblb_stats.csv')\n",
    "txblb_stats"
   ]
  },
  {
   "cell_type": "code",
   "execution_count": null,
   "metadata": {
    "id": "3HCz88zluuBm"
   },
   "outputs": [],
   "source": [
    "# Correlation matrix\n",
    "def corrdot(*args, **kwargs):\n",
    "    corr_r = args[0].corr(args[1], 'pearson')\n",
    "    corr_text = f\"{corr_r:2.2f}\".replace(\"0.\", \".\")\n",
    "    ax = plt.gca()\n",
    "    ax.set_axis_off()\n",
    "    marker_size = abs(corr_r) * 10000\n",
    "    ax.scatter([.5], [.5], marker_size, [corr_r], alpha=0.6, cmap=\"coolwarm\", \\\n",
    "               vmin=-1, vmax=1, transform=ax.transAxes)\n",
    "    font_size = abs(corr_r) * 40 + 5\n",
    "    ax.annotate(corr_text, [.5, .5,],  xycoords=\"axes fraction\", ha='center', \\\n",
    "                va='center', fontsize=font_size)\n",
    "\n",
    "def annotate_colname(x, **kws):\n",
    "    ax = plt.gca()\n",
    "    ax.annotate(x.name, xy=(0.05, 0.9), xycoords=ax.transAxes, fontweight='bold')\n",
    "\n",
    "def plot_corr(df, title, save_name):\n",
    "  sns.set(style='white', font_scale=1.6)\n",
    "  g = sns.PairGrid(df, aspect=1.4, diag_sharey=False)\n",
    "  g.fig.set_size_inches(20,20)\n",
    "  g.map_lower(sns.regplot, scatter_kws={'s':5,'alpha':0.1})\n",
    "  g.map_diag(sns.distplot, kde_kws={'color': 'black'})\n",
    "  g.map_diag(annotate_colname)\n",
    "  g.map_upper(corrdot)\n",
    "  plt.title(title, fontsize=26) \n",
    "  plt.savefig(fname=f'./figures/{save_name}.png', bbox_inches='tight')\n",
    "  plt.show()"
   ]
  },
  {
   "cell_type": "code",
   "execution_count": null,
   "metadata": {
    "colab": {
     "base_uri": "https://localhost:8080/",
     "height": 1000
    },
    "id": "U9HcEg2cv1kR",
    "outputId": "d854fd91-6419-4fdf-b538-eab488350ef0"
   },
   "outputs": [],
   "source": [
    "plot_corr(df=all_data[['vader_com', 'text_blob_polarity']], \n",
    "          title='All Data', \n",
    "          save_name='sentiment_corr_matrix')\n",
    "plot_corr(df=all_data[['vader_com', 'text_blob_polarity']][all_data['year']==2020], \n",
    "          title='2020', \n",
    "          save_name='sent_corr_matrix_2020')\n",
    "plot_corr(df=all_data[['vader_com', 'text_blob_polarity']][all_data['year']==2021], \n",
    "          title='2021', \n",
    "          save_name='sent_corr_matrix_2021')"
   ]
  },
  {
   "cell_type": "code",
   "execution_count": null,
   "metadata": {
    "id": "pm2eSbjw0rnr"
   },
   "outputs": [],
   "source": [
    "all_data.to_csv('./03_primary/all_data.csv')"
   ]
  },
  {
   "cell_type": "markdown",
   "metadata": {
    "id": "r_u5_hVIKC6o"
   },
   "source": [
    "# EDA and comparing dataframes"
   ]
  },
  {
   "cell_type": "code",
   "execution_count": null,
   "metadata": {
    "colab": {
     "base_uri": "https://localhost:8080/",
     "height": 784
    },
    "id": "A6AABgRu0B33",
    "outputId": "96905f8d-fcc7-4299-d32c-c0e3e5030270"
   },
   "outputs": [],
   "source": [
    "# If picking up fresh\n",
    "all_data= pd.read_csv('./02_intermediate/all_data.csv').drop(['Unnamed: 0'], axis=1)\n",
    "all_data[::15000]"
   ]
  },
  {
   "cell_type": "code",
   "execution_count": null,
   "metadata": {
    "colab": {
     "base_uri": "https://localhost:8080/"
    },
    "id": "E8so8oAG1b9Y",
    "outputId": "20e0f2a0-31a9-48fa-deca-a04d24bc2e72"
   },
   "outputs": [],
   "source": [
    "dabl_df = dabl.clean(all_data, verbose=1)"
   ]
  },
  {
   "cell_type": "markdown",
   "metadata": {
    "id": "gCbFY5UpKMVS"
   },
   "source": [
    "## DABL Plots"
   ]
  },
  {
   "cell_type": "code",
   "execution_count": null,
   "metadata": {
    "colab": {
     "base_uri": "https://localhost:8080/",
     "height": 1000
    },
    "id": "lu_eL4QsJOn9",
    "outputId": "5b0a2d66-3d3c-472d-b20d-39717a5f7dc8"
   },
   "outputs": [],
   "source": [
    "# All data\n",
    "dabl.plot(dabl_df, target_col='vader_com')"
   ]
  },
  {
   "cell_type": "markdown",
   "metadata": {
    "id": "Te7HEOg5KXZI"
   },
   "source": [
    "## Sweetviz for comparisons"
   ]
  },
  {
   "cell_type": "code",
   "execution_count": null,
   "metadata": {
    "colab": {
     "base_uri": "https://localhost:8080/",
     "height": 86,
     "referenced_widgets": [
      "c3622155ce79496fb1877a2eff7c2fda",
      "93c69ba7e0b6429abb02ca580c2d53eb",
      "0b2455c78bf84c308727c947862279a0",
      "308fb62995904595a031bcab3cbe2718",
      "b42e92b6f2f948e2b53818c4586f0762",
      "1960a928b1e24aa2957aaaa960058dc8",
      "263387e72da34c3aac3bd0d852ce38a0",
      "a133e7f2a2514204897d05d1e880d338",
      "77b68d63f1a34682a99ba273f8ceaee1",
      "cddcf84dc55f47d4a26be5caebd0a958",
      "2464cc15bccb4cbd8ed52e6ffa77c460"
     ]
    },
    "id": "dXloi3zF4tdh",
    "outputId": "f4c72715-4f97-44f3-8958-3dbbb94a5e56"
   },
   "outputs": [],
   "source": [
    "# Sweetviz for all data\n",
    "all_report = sv.analyze(dabl_df)\n",
    "all_report.show_html(filepath='SWEETVIZ_REPORT.html', \n",
    "                     open_browser=True, \n",
    "                     layout='widescreen', \n",
    "                     scale=None)"
   ]
  },
  {
   "cell_type": "code",
   "execution_count": null,
   "metadata": {
    "colab": {
     "base_uri": "https://localhost:8080/",
     "height": 86,
     "referenced_widgets": [
      "9f52fb9862364bcabd52cdd43cbf2708",
      "320b04b8149f420782a2d2851b7b95e8",
      "584186fb53ba4f709d044908a43d7f68",
      "940bee434066443eb55aace3a666e7d1",
      "378fd4ee1d44408f9a762c5db7ea8232",
      "f2a25df7eb1b4a4685a37310f1fe114b",
      "ed7512edf45d40ae8fdfd13318a1b57c",
      "a6b0d87544914714b6b09f1cb0cfd2d4",
      "8d0c55e0ac31454dab416da24cb5c013",
      "f813f9e4effe41ad9b3c83fc60757f70",
      "e333fd41aadc471fa8dc26094728617c"
     ]
    },
    "id": "f8jFeb-uJS25",
    "outputId": "b78616ec-cef4-4d3c-e678-a6f384011c2f"
   },
   "outputs": [],
   "source": [
    "# 2020 vs 2021\n",
    "df_20 = dabl_df[dabl_df['year']=='2020'].reset_index(drop=True)\n",
    "df_21 = dabl_df[dabl_df['year']=='2021'].reset_index(drop=True)\n",
    "compare_report = sv.compare([df_20, \"Pre-COVID\"], [df_21, \"Post-COVID\"])\n",
    "compare_report.show_html()"
   ]
  },
  {
   "cell_type": "markdown",
   "metadata": {
    "id": "2hog4jVx9vIl"
   },
   "source": [
    "# Topic Model"
   ]
  },
  {
   "cell_type": "code",
   "execution_count": null,
   "metadata": {
    "colab": {
     "base_uri": "https://localhost:8080/",
     "height": 581
    },
    "id": "VBcr4iPn-la3",
    "outputId": "c84f720a-44de-406c-cce8-b3d33ac3d359"
   },
   "outputs": [],
   "source": [
    "trim_data = all_data[['date', 'content', 'id', 'replyCount', \n",
    "                      'retweetCount', 'likeCount', 'quoteCount', \n",
    "                      'conversationId', 'lang', 'sourceLabel', \n",
    "                      'hashtags', 'time', 'year', 'vader_pos', \n",
    "                      'vader_neu', 'vader_neg', 'vader_com', \n",
    "                      'text_blob_polarity', 'text_blob_subjectivity']]\n",
    "trim_data.head()"
   ]
  },
  {
   "cell_type": "code",
   "execution_count": null,
   "metadata": {
    "id": "5_Y2cF8N-rQj"
   },
   "outputs": [],
   "source": []
  }
 ],
 "metadata": {
  "accelerator": "GPU",
  "colab": {
   "collapsed_sections": [
    "gBKolIo3XGaU",
    "KnO5o29qn0gN",
    "r_u5_hVIKC6o",
    "gCbFY5UpKMVS",
    "Te7HEOg5KXZI"
   ],
   "include_colab_link": true,
   "machine_shape": "hm",
   "name": "dabl_analyses_emoji_corrs.ipynb",
   "provenance": []
  },
  "kernelspec": {
   "display_name": "Python 3",
   "language": "python",
   "name": "python3"
  },
  "language_info": {
   "codemirror_mode": {
    "name": "ipython",
    "version": 3
   },
   "file_extension": ".py",
   "mimetype": "text/x-python",
   "name": "python",
   "nbconvert_exporter": "python",
   "pygments_lexer": "ipython3",
   "version": "3.8.8"
  },
  "varInspector": {
   "cols": {
    "lenName": 16,
    "lenType": 16,
    "lenVar": 40
   },
   "kernels_config": {
    "python": {
     "delete_cmd_postfix": "",
     "delete_cmd_prefix": "del ",
     "library": "var_list.py",
     "varRefreshCmd": "print(var_dic_list())"
    },
    "r": {
     "delete_cmd_postfix": ") ",
     "delete_cmd_prefix": "rm(",
     "library": "var_list.r",
     "varRefreshCmd": "cat(var_dic_list()) "
    }
   },
   "types_to_exclude": [
    "module",
    "function",
    "builtin_function_or_method",
    "instance",
    "_Feature"
   ],
   "window_display": false
  },
  "widgets": {
   "application/vnd.jupyter.widget-state+json": {
    "0b2455c78bf84c308727c947862279a0": {
     "model_module": "@jupyter-widgets/controls",
     "model_module_version": "1.5.0",
     "model_name": "HTMLModel",
     "state": {
      "_dom_classes": [],
      "_model_module": "@jupyter-widgets/controls",
      "_model_module_version": "1.5.0",
      "_model_name": "HTMLModel",
      "_view_count": null,
      "_view_module": "@jupyter-widgets/controls",
      "_view_module_version": "1.5.0",
      "_view_name": "HTMLView",
      "description": "",
      "description_tooltip": null,
      "layout": "IPY_MODEL_263387e72da34c3aac3bd0d852ce38a0",
      "placeholder": "​",
      "style": "IPY_MODEL_1960a928b1e24aa2957aaaa960058dc8",
      "value": "Done! Use &#x27;show&#x27; commands to display/save.   "
     }
    },
    "1960a928b1e24aa2957aaaa960058dc8": {
     "model_module": "@jupyter-widgets/controls",
     "model_module_version": "1.5.0",
     "model_name": "DescriptionStyleModel",
     "state": {
      "_model_module": "@jupyter-widgets/controls",
      "_model_module_version": "1.5.0",
      "_model_name": "DescriptionStyleModel",
      "_view_count": null,
      "_view_module": "@jupyter-widgets/base",
      "_view_module_version": "1.2.0",
      "_view_name": "StyleView",
      "description_width": ""
     }
    },
    "2464cc15bccb4cbd8ed52e6ffa77c460": {
     "model_module": "@jupyter-widgets/base",
     "model_module_version": "1.2.0",
     "model_name": "LayoutModel",
     "state": {
      "_model_module": "@jupyter-widgets/base",
      "_model_module_version": "1.2.0",
      "_model_name": "LayoutModel",
      "_view_count": null,
      "_view_module": "@jupyter-widgets/base",
      "_view_module_version": "1.2.0",
      "_view_name": "LayoutView",
      "align_content": null,
      "align_items": null,
      "align_self": null,
      "border": null,
      "bottom": null,
      "display": null,
      "flex": null,
      "flex_flow": null,
      "grid_area": null,
      "grid_auto_columns": null,
      "grid_auto_flow": null,
      "grid_auto_rows": null,
      "grid_column": null,
      "grid_gap": null,
      "grid_row": null,
      "grid_template_areas": null,
      "grid_template_columns": null,
      "grid_template_rows": null,
      "height": null,
      "justify_content": null,
      "justify_items": null,
      "left": null,
      "margin": null,
      "max_height": null,
      "max_width": null,
      "min_height": null,
      "min_width": null,
      "object_fit": null,
      "object_position": null,
      "order": null,
      "overflow": null,
      "overflow_x": null,
      "overflow_y": null,
      "padding": null,
      "right": null,
      "top": null,
      "visibility": null,
      "width": null
     }
    },
    "263387e72da34c3aac3bd0d852ce38a0": {
     "model_module": "@jupyter-widgets/base",
     "model_module_version": "1.2.0",
     "model_name": "LayoutModel",
     "state": {
      "_model_module": "@jupyter-widgets/base",
      "_model_module_version": "1.2.0",
      "_model_name": "LayoutModel",
      "_view_count": null,
      "_view_module": "@jupyter-widgets/base",
      "_view_module_version": "1.2.0",
      "_view_name": "LayoutView",
      "align_content": null,
      "align_items": null,
      "align_self": null,
      "border": null,
      "bottom": null,
      "display": null,
      "flex": null,
      "flex_flow": null,
      "grid_area": null,
      "grid_auto_columns": null,
      "grid_auto_flow": null,
      "grid_auto_rows": null,
      "grid_column": null,
      "grid_gap": null,
      "grid_row": null,
      "grid_template_areas": null,
      "grid_template_columns": null,
      "grid_template_rows": null,
      "height": null,
      "justify_content": null,
      "justify_items": null,
      "left": null,
      "margin": null,
      "max_height": null,
      "max_width": null,
      "min_height": null,
      "min_width": null,
      "object_fit": null,
      "object_position": null,
      "order": null,
      "overflow": null,
      "overflow_x": null,
      "overflow_y": null,
      "padding": null,
      "right": null,
      "top": null,
      "visibility": null,
      "width": null
     }
    },
    "308fb62995904595a031bcab3cbe2718": {
     "model_module": "@jupyter-widgets/controls",
     "model_module_version": "1.5.0",
     "model_name": "FloatProgressModel",
     "state": {
      "_dom_classes": [],
      "_model_module": "@jupyter-widgets/controls",
      "_model_module_version": "1.5.0",
      "_model_name": "FloatProgressModel",
      "_view_count": null,
      "_view_module": "@jupyter-widgets/controls",
      "_view_module_version": "1.5.0",
      "_view_name": "ProgressView",
      "bar_style": "success",
      "description": "",
      "description_tooltip": null,
      "layout": "IPY_MODEL_77b68d63f1a34682a99ba273f8ceaee1",
      "max": 1,
      "min": 0,
      "orientation": "horizontal",
      "style": "IPY_MODEL_a133e7f2a2514204897d05d1e880d338",
      "value": 1
     }
    },
    "320b04b8149f420782a2d2851b7b95e8": {
     "model_module": "@jupyter-widgets/base",
     "model_module_version": "1.2.0",
     "model_name": "LayoutModel",
     "state": {
      "_model_module": "@jupyter-widgets/base",
      "_model_module_version": "1.2.0",
      "_model_name": "LayoutModel",
      "_view_count": null,
      "_view_module": "@jupyter-widgets/base",
      "_view_module_version": "1.2.0",
      "_view_name": "LayoutView",
      "align_content": null,
      "align_items": null,
      "align_self": null,
      "border": null,
      "bottom": null,
      "display": "inline-flex",
      "flex": null,
      "flex_flow": "row wrap",
      "grid_area": null,
      "grid_auto_columns": null,
      "grid_auto_flow": null,
      "grid_auto_rows": null,
      "grid_column": null,
      "grid_gap": null,
      "grid_row": null,
      "grid_template_areas": null,
      "grid_template_columns": null,
      "grid_template_rows": null,
      "height": null,
      "justify_content": null,
      "justify_items": null,
      "left": null,
      "margin": null,
      "max_height": null,
      "max_width": null,
      "min_height": null,
      "min_width": null,
      "object_fit": null,
      "object_position": null,
      "order": null,
      "overflow": null,
      "overflow_x": null,
      "overflow_y": null,
      "padding": null,
      "right": null,
      "top": null,
      "visibility": null,
      "width": "100%"
     }
    },
    "378fd4ee1d44408f9a762c5db7ea8232": {
     "model_module": "@jupyter-widgets/controls",
     "model_module_version": "1.5.0",
     "model_name": "HTMLModel",
     "state": {
      "_dom_classes": [],
      "_model_module": "@jupyter-widgets/controls",
      "_model_module_version": "1.5.0",
      "_model_name": "HTMLModel",
      "_view_count": null,
      "_view_module": "@jupyter-widgets/controls",
      "_view_module_version": "1.5.0",
      "_view_name": "HTMLView",
      "description": "",
      "description_tooltip": null,
      "layout": "IPY_MODEL_e333fd41aadc471fa8dc26094728617c",
      "placeholder": "​",
      "style": "IPY_MODEL_f813f9e4effe41ad9b3c83fc60757f70",
      "value": " [100%]   00:01 -&gt; (00:00 left)"
     }
    },
    "584186fb53ba4f709d044908a43d7f68": {
     "model_module": "@jupyter-widgets/controls",
     "model_module_version": "1.5.0",
     "model_name": "HTMLModel",
     "state": {
      "_dom_classes": [],
      "_model_module": "@jupyter-widgets/controls",
      "_model_module_version": "1.5.0",
      "_model_name": "HTMLModel",
      "_view_count": null,
      "_view_module": "@jupyter-widgets/controls",
      "_view_module_version": "1.5.0",
      "_view_name": "HTMLView",
      "description": "",
      "description_tooltip": null,
      "layout": "IPY_MODEL_ed7512edf45d40ae8fdfd13318a1b57c",
      "placeholder": "​",
      "style": "IPY_MODEL_f2a25df7eb1b4a4685a37310f1fe114b",
      "value": "Done! Use &#x27;show&#x27; commands to display/save.   "
     }
    },
    "77b68d63f1a34682a99ba273f8ceaee1": {
     "model_module": "@jupyter-widgets/base",
     "model_module_version": "1.2.0",
     "model_name": "LayoutModel",
     "state": {
      "_model_module": "@jupyter-widgets/base",
      "_model_module_version": "1.2.0",
      "_model_name": "LayoutModel",
      "_view_count": null,
      "_view_module": "@jupyter-widgets/base",
      "_view_module_version": "1.2.0",
      "_view_name": "LayoutView",
      "align_content": null,
      "align_items": null,
      "align_self": null,
      "border": null,
      "bottom": null,
      "display": null,
      "flex": "2",
      "flex_flow": null,
      "grid_area": null,
      "grid_auto_columns": null,
      "grid_auto_flow": null,
      "grid_auto_rows": null,
      "grid_column": null,
      "grid_gap": null,
      "grid_row": null,
      "grid_template_areas": null,
      "grid_template_columns": null,
      "grid_template_rows": null,
      "height": null,
      "justify_content": null,
      "justify_items": null,
      "left": null,
      "margin": null,
      "max_height": null,
      "max_width": null,
      "min_height": null,
      "min_width": null,
      "object_fit": null,
      "object_position": null,
      "order": null,
      "overflow": null,
      "overflow_x": null,
      "overflow_y": null,
      "padding": null,
      "right": null,
      "top": null,
      "visibility": null,
      "width": null
     }
    },
    "8d0c55e0ac31454dab416da24cb5c013": {
     "model_module": "@jupyter-widgets/base",
     "model_module_version": "1.2.0",
     "model_name": "LayoutModel",
     "state": {
      "_model_module": "@jupyter-widgets/base",
      "_model_module_version": "1.2.0",
      "_model_name": "LayoutModel",
      "_view_count": null,
      "_view_module": "@jupyter-widgets/base",
      "_view_module_version": "1.2.0",
      "_view_name": "LayoutView",
      "align_content": null,
      "align_items": null,
      "align_self": null,
      "border": null,
      "bottom": null,
      "display": null,
      "flex": "2",
      "flex_flow": null,
      "grid_area": null,
      "grid_auto_columns": null,
      "grid_auto_flow": null,
      "grid_auto_rows": null,
      "grid_column": null,
      "grid_gap": null,
      "grid_row": null,
      "grid_template_areas": null,
      "grid_template_columns": null,
      "grid_template_rows": null,
      "height": null,
      "justify_content": null,
      "justify_items": null,
      "left": null,
      "margin": null,
      "max_height": null,
      "max_width": null,
      "min_height": null,
      "min_width": null,
      "object_fit": null,
      "object_position": null,
      "order": null,
      "overflow": null,
      "overflow_x": null,
      "overflow_y": null,
      "padding": null,
      "right": null,
      "top": null,
      "visibility": null,
      "width": null
     }
    },
    "93c69ba7e0b6429abb02ca580c2d53eb": {
     "model_module": "@jupyter-widgets/base",
     "model_module_version": "1.2.0",
     "model_name": "LayoutModel",
     "state": {
      "_model_module": "@jupyter-widgets/base",
      "_model_module_version": "1.2.0",
      "_model_name": "LayoutModel",
      "_view_count": null,
      "_view_module": "@jupyter-widgets/base",
      "_view_module_version": "1.2.0",
      "_view_name": "LayoutView",
      "align_content": null,
      "align_items": null,
      "align_self": null,
      "border": null,
      "bottom": null,
      "display": "inline-flex",
      "flex": null,
      "flex_flow": "row wrap",
      "grid_area": null,
      "grid_auto_columns": null,
      "grid_auto_flow": null,
      "grid_auto_rows": null,
      "grid_column": null,
      "grid_gap": null,
      "grid_row": null,
      "grid_template_areas": null,
      "grid_template_columns": null,
      "grid_template_rows": null,
      "height": null,
      "justify_content": null,
      "justify_items": null,
      "left": null,
      "margin": null,
      "max_height": null,
      "max_width": null,
      "min_height": null,
      "min_width": null,
      "object_fit": null,
      "object_position": null,
      "order": null,
      "overflow": null,
      "overflow_x": null,
      "overflow_y": null,
      "padding": null,
      "right": null,
      "top": null,
      "visibility": null,
      "width": "100%"
     }
    },
    "940bee434066443eb55aace3a666e7d1": {
     "model_module": "@jupyter-widgets/controls",
     "model_module_version": "1.5.0",
     "model_name": "FloatProgressModel",
     "state": {
      "_dom_classes": [],
      "_model_module": "@jupyter-widgets/controls",
      "_model_module_version": "1.5.0",
      "_model_name": "FloatProgressModel",
      "_view_count": null,
      "_view_module": "@jupyter-widgets/controls",
      "_view_module_version": "1.5.0",
      "_view_name": "ProgressView",
      "bar_style": "success",
      "description": "",
      "description_tooltip": null,
      "layout": "IPY_MODEL_8d0c55e0ac31454dab416da24cb5c013",
      "max": 1,
      "min": 0,
      "orientation": "horizontal",
      "style": "IPY_MODEL_a6b0d87544914714b6b09f1cb0cfd2d4",
      "value": 1
     }
    },
    "9f52fb9862364bcabd52cdd43cbf2708": {
     "model_module": "@jupyter-widgets/controls",
     "model_module_version": "1.5.0",
     "model_name": "HBoxModel",
     "state": {
      "_dom_classes": [],
      "_model_module": "@jupyter-widgets/controls",
      "_model_module_version": "1.5.0",
      "_model_name": "HBoxModel",
      "_view_count": null,
      "_view_module": "@jupyter-widgets/controls",
      "_view_module_version": "1.5.0",
      "_view_name": "HBoxView",
      "box_style": "",
      "children": [
       "IPY_MODEL_584186fb53ba4f709d044908a43d7f68",
       "IPY_MODEL_940bee434066443eb55aace3a666e7d1",
       "IPY_MODEL_378fd4ee1d44408f9a762c5db7ea8232"
      ],
      "layout": "IPY_MODEL_320b04b8149f420782a2d2851b7b95e8"
     }
    },
    "a133e7f2a2514204897d05d1e880d338": {
     "model_module": "@jupyter-widgets/controls",
     "model_module_version": "1.5.0",
     "model_name": "ProgressStyleModel",
     "state": {
      "_model_module": "@jupyter-widgets/controls",
      "_model_module_version": "1.5.0",
      "_model_name": "ProgressStyleModel",
      "_view_count": null,
      "_view_module": "@jupyter-widgets/base",
      "_view_module_version": "1.2.0",
      "_view_name": "StyleView",
      "bar_color": null,
      "description_width": ""
     }
    },
    "a6b0d87544914714b6b09f1cb0cfd2d4": {
     "model_module": "@jupyter-widgets/controls",
     "model_module_version": "1.5.0",
     "model_name": "ProgressStyleModel",
     "state": {
      "_model_module": "@jupyter-widgets/controls",
      "_model_module_version": "1.5.0",
      "_model_name": "ProgressStyleModel",
      "_view_count": null,
      "_view_module": "@jupyter-widgets/base",
      "_view_module_version": "1.2.0",
      "_view_name": "StyleView",
      "bar_color": null,
      "description_width": ""
     }
    },
    "b42e92b6f2f948e2b53818c4586f0762": {
     "model_module": "@jupyter-widgets/controls",
     "model_module_version": "1.5.0",
     "model_name": "HTMLModel",
     "state": {
      "_dom_classes": [],
      "_model_module": "@jupyter-widgets/controls",
      "_model_module_version": "1.5.0",
      "_model_name": "HTMLModel",
      "_view_count": null,
      "_view_module": "@jupyter-widgets/controls",
      "_view_module_version": "1.5.0",
      "_view_name": "HTMLView",
      "description": "",
      "description_tooltip": null,
      "layout": "IPY_MODEL_2464cc15bccb4cbd8ed52e6ffa77c460",
      "placeholder": "​",
      "style": "IPY_MODEL_cddcf84dc55f47d4a26be5caebd0a958",
      "value": " [100%]   00:00 -&gt; (00:00 left)"
     }
    },
    "c3622155ce79496fb1877a2eff7c2fda": {
     "model_module": "@jupyter-widgets/controls",
     "model_module_version": "1.5.0",
     "model_name": "HBoxModel",
     "state": {
      "_dom_classes": [],
      "_model_module": "@jupyter-widgets/controls",
      "_model_module_version": "1.5.0",
      "_model_name": "HBoxModel",
      "_view_count": null,
      "_view_module": "@jupyter-widgets/controls",
      "_view_module_version": "1.5.0",
      "_view_name": "HBoxView",
      "box_style": "",
      "children": [
       "IPY_MODEL_0b2455c78bf84c308727c947862279a0",
       "IPY_MODEL_308fb62995904595a031bcab3cbe2718",
       "IPY_MODEL_b42e92b6f2f948e2b53818c4586f0762"
      ],
      "layout": "IPY_MODEL_93c69ba7e0b6429abb02ca580c2d53eb"
     }
    },
    "cddcf84dc55f47d4a26be5caebd0a958": {
     "model_module": "@jupyter-widgets/controls",
     "model_module_version": "1.5.0",
     "model_name": "DescriptionStyleModel",
     "state": {
      "_model_module": "@jupyter-widgets/controls",
      "_model_module_version": "1.5.0",
      "_model_name": "DescriptionStyleModel",
      "_view_count": null,
      "_view_module": "@jupyter-widgets/base",
      "_view_module_version": "1.2.0",
      "_view_name": "StyleView",
      "description_width": ""
     }
    },
    "e333fd41aadc471fa8dc26094728617c": {
     "model_module": "@jupyter-widgets/base",
     "model_module_version": "1.2.0",
     "model_name": "LayoutModel",
     "state": {
      "_model_module": "@jupyter-widgets/base",
      "_model_module_version": "1.2.0",
      "_model_name": "LayoutModel",
      "_view_count": null,
      "_view_module": "@jupyter-widgets/base",
      "_view_module_version": "1.2.0",
      "_view_name": "LayoutView",
      "align_content": null,
      "align_items": null,
      "align_self": null,
      "border": null,
      "bottom": null,
      "display": null,
      "flex": null,
      "flex_flow": null,
      "grid_area": null,
      "grid_auto_columns": null,
      "grid_auto_flow": null,
      "grid_auto_rows": null,
      "grid_column": null,
      "grid_gap": null,
      "grid_row": null,
      "grid_template_areas": null,
      "grid_template_columns": null,
      "grid_template_rows": null,
      "height": null,
      "justify_content": null,
      "justify_items": null,
      "left": null,
      "margin": null,
      "max_height": null,
      "max_width": null,
      "min_height": null,
      "min_width": null,
      "object_fit": null,
      "object_position": null,
      "order": null,
      "overflow": null,
      "overflow_x": null,
      "overflow_y": null,
      "padding": null,
      "right": null,
      "top": null,
      "visibility": null,
      "width": null
     }
    },
    "ed7512edf45d40ae8fdfd13318a1b57c": {
     "model_module": "@jupyter-widgets/base",
     "model_module_version": "1.2.0",
     "model_name": "LayoutModel",
     "state": {
      "_model_module": "@jupyter-widgets/base",
      "_model_module_version": "1.2.0",
      "_model_name": "LayoutModel",
      "_view_count": null,
      "_view_module": "@jupyter-widgets/base",
      "_view_module_version": "1.2.0",
      "_view_name": "LayoutView",
      "align_content": null,
      "align_items": null,
      "align_self": null,
      "border": null,
      "bottom": null,
      "display": null,
      "flex": null,
      "flex_flow": null,
      "grid_area": null,
      "grid_auto_columns": null,
      "grid_auto_flow": null,
      "grid_auto_rows": null,
      "grid_column": null,
      "grid_gap": null,
      "grid_row": null,
      "grid_template_areas": null,
      "grid_template_columns": null,
      "grid_template_rows": null,
      "height": null,
      "justify_content": null,
      "justify_items": null,
      "left": null,
      "margin": null,
      "max_height": null,
      "max_width": null,
      "min_height": null,
      "min_width": null,
      "object_fit": null,
      "object_position": null,
      "order": null,
      "overflow": null,
      "overflow_x": null,
      "overflow_y": null,
      "padding": null,
      "right": null,
      "top": null,
      "visibility": null,
      "width": null
     }
    },
    "f2a25df7eb1b4a4685a37310f1fe114b": {
     "model_module": "@jupyter-widgets/controls",
     "model_module_version": "1.5.0",
     "model_name": "DescriptionStyleModel",
     "state": {
      "_model_module": "@jupyter-widgets/controls",
      "_model_module_version": "1.5.0",
      "_model_name": "DescriptionStyleModel",
      "_view_count": null,
      "_view_module": "@jupyter-widgets/base",
      "_view_module_version": "1.2.0",
      "_view_name": "StyleView",
      "description_width": ""
     }
    },
    "f813f9e4effe41ad9b3c83fc60757f70": {
     "model_module": "@jupyter-widgets/controls",
     "model_module_version": "1.5.0",
     "model_name": "DescriptionStyleModel",
     "state": {
      "_model_module": "@jupyter-widgets/controls",
      "_model_module_version": "1.5.0",
      "_model_name": "DescriptionStyleModel",
      "_view_count": null,
      "_view_module": "@jupyter-widgets/base",
      "_view_module_version": "1.2.0",
      "_view_name": "StyleView",
      "description_width": ""
     }
    }
   }
  }
 },
 "nbformat": 4,
 "nbformat_minor": 1
}
